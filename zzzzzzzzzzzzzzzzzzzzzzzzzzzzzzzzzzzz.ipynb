{
 "cells": [
  {
   "cell_type": "code",
   "execution_count": 1,
   "id": "9fec9876",
   "metadata": {},
   "outputs": [],
   "source": [
    "import numpy as np\n",
    "import gurobipy as gp"
   ]
  },
  {
   "cell_type": "code",
   "execution_count": 2,
   "id": "e2594b7b",
   "metadata": {},
   "outputs": [],
   "source": [
    "count_units = 3\n",
    "count_times = 6\n",
    "\n",
    "costs_startup_const = [800, 500, 250]\n",
    "costs_generation = [5, 15, 30]\n",
    "power_outputs_minimum = [80, 50, 30]\n",
    "power_outputs_maximum = [300, 200, 100]\n",
    "startups = [100, 70, 40]\n",
    "startdowns = [80, 50, 30]\n",
    "rampups = [50, 60, 70]\n",
    "rampdowns = [30, 40, 50]\n",
    "minimumups = [3, 2, 1]\n",
    "minimumdowns = [2, 2, 2]\n",
    "commitments_initial = [1, 0, 0]\n",
    "power_outputs_initial = [120, 0, 0]\n",
    "minimumups_initial  = [2, 0, 0]\n",
    "minimumdowns_initial  = [0, 0, 0]\n",
    "demands = [220, 250, 200, 170, 230, 190]\n",
    "reserves = [10, 10, 10, 10, 10, 10]\n",
    "\n",
    "# helper parameter\n",
    "power_outputs_pseudo_ub = np.tile(np.array(power_outputs_maximum)[:, None], (1, count_times))"
   ]
  },
  {
   "cell_type": "code",
   "execution_count": 3,
   "id": "d0e5c067",
   "metadata": {},
   "outputs": [
    {
     "name": "stdout",
     "output_type": "stream",
     "text": [
      "Set parameter Username\n",
      "Set parameter LicenseID to value 2659802\n",
      "Academic license - for non-commercial use only - expires 2026-05-01\n"
     ]
    }
   ],
   "source": [
    "model = gp.Model()\n",
    "model.setParam(\"OutputFlag\", 0)"
   ]
  },
  {
   "cell_type": "code",
   "execution_count": 4,
   "id": "5a01074b",
   "metadata": {},
   "outputs": [],
   "source": [
    "# variable\n",
    "commitments = model.addVars(range(count_units), range(count_times), vtype=gp.GRB.BINARY)\n",
    "power_outputs = model.addVars(range(count_units), range(count_times), lb=0, ub=power_outputs_pseudo_ub)\n",
    "power_outputs_bars = model.addVars(range(count_units), range(count_times), lb=0, ub=power_outputs_pseudo_ub)\n",
    "costs_startup = model.addVars(range(count_units), range(count_times), lb=0)"
   ]
  },
  {
   "cell_type": "code",
   "execution_count": 5,
   "id": "8df4ccef",
   "metadata": {},
   "outputs": [
    {
     "data": {
      "text/plain": [
       "{0: <gurobi.Constr *Awaiting Model Update*>,\n",
       " 1: <gurobi.Constr *Awaiting Model Update*>,\n",
       " 2: <gurobi.Constr *Awaiting Model Update*>,\n",
       " 3: <gurobi.Constr *Awaiting Model Update*>,\n",
       " 4: <gurobi.Constr *Awaiting Model Update*>,\n",
       " 5: <gurobi.Constr *Awaiting Model Update*>}"
      ]
     },
     "execution_count": 5,
     "metadata": {},
     "output_type": "execute_result"
    }
   ],
   "source": [
    "# constr - balance between sum of power and demand at each time\n",
    "model.addConstrs(\n",
    "    gp.quicksum(power_outputs[i, t] for i in range(count_units)) == demands[t]\n",
    "    for t in range(count_times)\n",
    ")"
   ]
  },
  {
   "cell_type": "code",
   "execution_count": 6,
   "id": "70e76f0e",
   "metadata": {},
   "outputs": [
    {
     "data": {
      "text/plain": [
       "{0: <gurobi.Constr *Awaiting Model Update*>,\n",
       " 1: <gurobi.Constr *Awaiting Model Update*>,\n",
       " 2: <gurobi.Constr *Awaiting Model Update*>,\n",
       " 3: <gurobi.Constr *Awaiting Model Update*>,\n",
       " 4: <gurobi.Constr *Awaiting Model Update*>,\n",
       " 5: <gurobi.Constr *Awaiting Model Update*>}"
      ]
     },
     "execution_count": 6,
     "metadata": {},
     "output_type": "execute_result"
    }
   ],
   "source": [
    "# constr - sum of power bar should be greater than demand and reserve at each time\n",
    "model.addConstrs(\n",
    "    gp.quicksum(power_outputs_bars[i, t] for i in range(count_units)) >= demands[t] + reserves[t]\n",
    "    for t in range(count_times)\n",
    ")"
   ]
  },
  {
   "cell_type": "code",
   "execution_count": 7,
   "id": "9163ab59",
   "metadata": {},
   "outputs": [
    {
     "data": {
      "text/plain": [
       "{(0, 0): <gurobi.Constr *Awaiting Model Update*>,\n",
       " (0, 1): <gurobi.Constr *Awaiting Model Update*>,\n",
       " (0, 2): <gurobi.Constr *Awaiting Model Update*>,\n",
       " (0, 3): <gurobi.Constr *Awaiting Model Update*>,\n",
       " (0, 4): <gurobi.Constr *Awaiting Model Update*>,\n",
       " (0, 5): <gurobi.Constr *Awaiting Model Update*>,\n",
       " (1, 0): <gurobi.Constr *Awaiting Model Update*>,\n",
       " (1, 1): <gurobi.Constr *Awaiting Model Update*>,\n",
       " (1, 2): <gurobi.Constr *Awaiting Model Update*>,\n",
       " (1, 3): <gurobi.Constr *Awaiting Model Update*>,\n",
       " (1, 4): <gurobi.Constr *Awaiting Model Update*>,\n",
       " (1, 5): <gurobi.Constr *Awaiting Model Update*>,\n",
       " (2, 0): <gurobi.Constr *Awaiting Model Update*>,\n",
       " (2, 1): <gurobi.Constr *Awaiting Model Update*>,\n",
       " (2, 2): <gurobi.Constr *Awaiting Model Update*>,\n",
       " (2, 3): <gurobi.Constr *Awaiting Model Update*>,\n",
       " (2, 4): <gurobi.Constr *Awaiting Model Update*>,\n",
       " (2, 5): <gurobi.Constr *Awaiting Model Update*>}"
      ]
     },
     "execution_count": 7,
     "metadata": {},
     "output_type": "execute_result"
    }
   ],
   "source": [
    "# constraint - power min bound with commitment decision\n",
    "model.addConstrs(\n",
    "    power_outputs[i, t] >= power_outputs_minimum[i] * commitments[i, t]\n",
    "    for i in range(count_units) for t in range(count_times)\n",
    ")"
   ]
  },
  {
   "cell_type": "code",
   "execution_count": 8,
   "id": "a5da2067",
   "metadata": {},
   "outputs": [
    {
     "data": {
      "text/plain": [
       "{(0, 0): <gurobi.Constr *Awaiting Model Update*>,\n",
       " (0, 1): <gurobi.Constr *Awaiting Model Update*>,\n",
       " (0, 2): <gurobi.Constr *Awaiting Model Update*>,\n",
       " (0, 3): <gurobi.Constr *Awaiting Model Update*>,\n",
       " (0, 4): <gurobi.Constr *Awaiting Model Update*>,\n",
       " (0, 5): <gurobi.Constr *Awaiting Model Update*>,\n",
       " (1, 0): <gurobi.Constr *Awaiting Model Update*>,\n",
       " (1, 1): <gurobi.Constr *Awaiting Model Update*>,\n",
       " (1, 2): <gurobi.Constr *Awaiting Model Update*>,\n",
       " (1, 3): <gurobi.Constr *Awaiting Model Update*>,\n",
       " (1, 4): <gurobi.Constr *Awaiting Model Update*>,\n",
       " (1, 5): <gurobi.Constr *Awaiting Model Update*>,\n",
       " (2, 0): <gurobi.Constr *Awaiting Model Update*>,\n",
       " (2, 1): <gurobi.Constr *Awaiting Model Update*>,\n",
       " (2, 2): <gurobi.Constr *Awaiting Model Update*>,\n",
       " (2, 3): <gurobi.Constr *Awaiting Model Update*>,\n",
       " (2, 4): <gurobi.Constr *Awaiting Model Update*>,\n",
       " (2, 5): <gurobi.Constr *Awaiting Model Update*>}"
      ]
     },
     "execution_count": 8,
     "metadata": {},
     "output_type": "execute_result"
    }
   ],
   "source": [
    "# constraint - power max bound with commitment decision\n",
    "model.addConstrs(\n",
    "    power_outputs[i, t] <= power_outputs_maximum[i] * commitments[i, t]\n",
    "    for i in range(count_units) for t in range(count_times)\n",
    ")"
   ]
  },
  {
   "cell_type": "code",
   "execution_count": 9,
   "id": "7587bea3",
   "metadata": {},
   "outputs": [
    {
     "data": {
      "text/plain": [
       "{(0, 0): <gurobi.Constr *Awaiting Model Update*>,\n",
       " (0, 1): <gurobi.Constr *Awaiting Model Update*>,\n",
       " (0, 2): <gurobi.Constr *Awaiting Model Update*>,\n",
       " (0, 3): <gurobi.Constr *Awaiting Model Update*>,\n",
       " (0, 4): <gurobi.Constr *Awaiting Model Update*>,\n",
       " (0, 5): <gurobi.Constr *Awaiting Model Update*>,\n",
       " (1, 0): <gurobi.Constr *Awaiting Model Update*>,\n",
       " (1, 1): <gurobi.Constr *Awaiting Model Update*>,\n",
       " (1, 2): <gurobi.Constr *Awaiting Model Update*>,\n",
       " (1, 3): <gurobi.Constr *Awaiting Model Update*>,\n",
       " (1, 4): <gurobi.Constr *Awaiting Model Update*>,\n",
       " (1, 5): <gurobi.Constr *Awaiting Model Update*>,\n",
       " (2, 0): <gurobi.Constr *Awaiting Model Update*>,\n",
       " (2, 1): <gurobi.Constr *Awaiting Model Update*>,\n",
       " (2, 2): <gurobi.Constr *Awaiting Model Update*>,\n",
       " (2, 3): <gurobi.Constr *Awaiting Model Update*>,\n",
       " (2, 4): <gurobi.Constr *Awaiting Model Update*>,\n",
       " (2, 5): <gurobi.Constr *Awaiting Model Update*>}"
      ]
     },
     "execution_count": 9,
     "metadata": {},
     "output_type": "execute_result"
    }
   ],
   "source": [
    "# const - power can't be great than power bar that satisfies reserve\n",
    "model.addConstrs(\n",
    "    power_outputs[i, t] <= power_outputs_bars[i, t]\n",
    "    for i in range(count_units) for t in range(count_times)\n",
    ")"
   ]
  },
  {
   "cell_type": "code",
   "execution_count": 10,
   "id": "41a6f582",
   "metadata": {},
   "outputs": [
    {
     "data": {
      "text/plain": [
       "{0: <gurobi.Constr *Awaiting Model Update*>,\n",
       " 1: <gurobi.Constr *Awaiting Model Update*>,\n",
       " 2: <gurobi.Constr *Awaiting Model Update*>}"
      ]
     },
     "execution_count": 10,
     "metadata": {},
     "output_type": "execute_result"
    }
   ],
   "source": [
    "# const - start-up costs\n",
    "#t = 1, 2, ..., T -1 \n",
    "model.addConstrs(\n",
    "    costs_startup[i, t] >= costs_startup_const[i] * (commitments[i, t] - commitments[i, t - 1])\n",
    "    for i in range(count_units) for t in range(1, count_times)\n",
    ")\n",
    "# t = 0\n",
    "model.addConstrs(\n",
    "    costs_startup[i, 0] >= costs_startup_const[i] * (commitments[i, 0] - commitments_initial[i])\n",
    "    for i in range(count_units)\n",
    ")"
   ]
  },
  {
   "cell_type": "code",
   "execution_count": 11,
   "id": "5f7e75f3",
   "metadata": {},
   "outputs": [
    {
     "data": {
      "text/plain": [
       "{0: <gurobi.Constr *Awaiting Model Update*>,\n",
       " 1: <gurobi.Constr *Awaiting Model Update*>,\n",
       " 2: <gurobi.Constr *Awaiting Model Update*>}"
      ]
     },
     "execution_count": 11,
     "metadata": {},
     "output_type": "execute_result"
    }
   ],
   "source": [
    "# const - ramp-up and startup\n",
    "# for t = 1, 2, ..., T-1\n",
    "model.addConstrs(\n",
    "    power_outputs_bars[i, t] <= (\n",
    "        power_outputs[i, t-1]\n",
    "        + rampups[i] * commitments[i, t-1]\n",
    "        + startups[i] * (commitments[i, t] - commitments[i, t-1])\n",
    "        + power_outputs_maximum[i] * (1 - commitments[i, t])\n",
    "    )\n",
    "    for i in range(count_units) for t in range(1, count_times)\n",
    ")\n",
    "# t = 0\n",
    "model.addConstrs(\n",
    "    power_outputs_bars[i, 0] <= (\n",
    "        power_outputs_initial[i] \n",
    "        + rampups[i] * commitments_initial[i]\n",
    "        + startups[i] * (commitments[i, 0] - commitments_initial[i])\n",
    "        + power_outputs_maximum[i] * (1 - commitments[i, 0])\n",
    "    )\n",
    "    for i in range(count_units)\n",
    ")"
   ]
  },
  {
   "cell_type": "code",
   "execution_count": 12,
   "id": "7c593060",
   "metadata": {},
   "outputs": [
    {
     "data": {
      "text/plain": [
       "{(0, 0): <gurobi.Constr *Awaiting Model Update*>,\n",
       " (0, 1): <gurobi.Constr *Awaiting Model Update*>,\n",
       " (0, 2): <gurobi.Constr *Awaiting Model Update*>,\n",
       " (0, 3): <gurobi.Constr *Awaiting Model Update*>,\n",
       " (0, 4): <gurobi.Constr *Awaiting Model Update*>,\n",
       " (1, 0): <gurobi.Constr *Awaiting Model Update*>,\n",
       " (1, 1): <gurobi.Constr *Awaiting Model Update*>,\n",
       " (1, 2): <gurobi.Constr *Awaiting Model Update*>,\n",
       " (1, 3): <gurobi.Constr *Awaiting Model Update*>,\n",
       " (1, 4): <gurobi.Constr *Awaiting Model Update*>,\n",
       " (2, 0): <gurobi.Constr *Awaiting Model Update*>,\n",
       " (2, 1): <gurobi.Constr *Awaiting Model Update*>,\n",
       " (2, 2): <gurobi.Constr *Awaiting Model Update*>,\n",
       " (2, 3): <gurobi.Constr *Awaiting Model Update*>,\n",
       " (2, 4): <gurobi.Constr *Awaiting Model Update*>}"
      ]
     },
     "execution_count": 12,
     "metadata": {},
     "output_type": "execute_result"
    }
   ],
   "source": [
    "# const - shutdown ramp\n",
    "# for t = 1, 2, ..., T-2\n",
    "model.addConstrs(\n",
    "    power_outputs_bars[i, t] <= (\n",
    "        power_outputs_maximum[i] * commitments[i, t+1]\n",
    "        + startdowns[i] * (commitments[i, t] - commitments[i, t+1])\n",
    "    )\n",
    "    for i in range(count_units) for t in range(count_times - 1)\n",
    ")"
   ]
  },
  {
   "cell_type": "code",
   "execution_count": 13,
   "id": "a746c857",
   "metadata": {},
   "outputs": [
    {
     "data": {
      "text/plain": [
       "{0: <gurobi.Constr *Awaiting Model Update*>,\n",
       " 1: <gurobi.Constr *Awaiting Model Update*>,\n",
       " 2: <gurobi.Constr *Awaiting Model Update*>}"
      ]
     },
     "execution_count": 13,
     "metadata": {},
     "output_type": "execute_result"
    }
   ],
   "source": [
    "# const - rampdown\n",
    "# for t = 1, 2, ..., T-1\n",
    "model.addConstrs(\n",
    "    power_outputs[i, t-1] - power_outputs[i, t] <= (\n",
    "        rampdowns[i] * commitments[i, t] \n",
    "        + startdowns[i] * (commitments[i, t-1] - commitments[i, t])\n",
    "        +  power_outputs_maximum[i] * (1 - commitments[i, t-1])\n",
    "    )\n",
    "    for i in range(count_units) for t in range(1, count_times)\n",
    ")\n",
    "# t = 0\n",
    "model.addConstrs(\n",
    "    power_outputs_initial[i] - power_outputs[i, 0] <= (\n",
    "        rampdowns[i] * commitments_initial[i] \n",
    "        + startdowns[i] * (commitments_initial[i] - commitments[i, 0])\n",
    "        +  power_outputs_maximum[i] * (1 - commitments_initial[i])\n",
    "    )\n",
    "    for i in range(count_units)\n",
    ")"
   ]
  },
  {
   "cell_type": "code",
   "execution_count": 14,
   "id": "4711f5be",
   "metadata": {},
   "outputs": [],
   "source": [
    "# const - minimum uptime main\n",
    "# t = minimumups_initial[i] + 1 , ... , T - minimum_ups\n",
    "model.addConstrs(\n",
    "    gp.quicksum(commitments[i, tau] for tau in range(t, t+minimumups[i])) >= (\n",
    "        minimumups[i] * (commitments[i, t] - commitments[i, t-1])\n",
    "    )\n",
    "    for i in range(count_units) for t in range(minimumups_initial[i] + 1, count_times - minimumups[i] + 1)\n",
    ")\n",
    "# t = minimumups_initial[i]\n",
    "for i in range(count_units):\n",
    "    t = minimumups_initial[i]\n",
    "    lhs = gp.quicksum(commitments[i, tau] for tau in range(t, t + minimumups[i]))\n",
    "    if t == 0:\n",
    "        rhs = minimumups[i] * (commitments[i, 0] - commitments_initial[i])\n",
    "    else:\n",
    "        rhs = minimumups[i] * (commitments[i, t] - commitments[i, t-1])\n",
    "    \n",
    "    model.addConstr(lhs >= rhs)\n"
   ]
  },
  {
   "cell_type": "code",
   "execution_count": 15,
   "id": "fb5c4051",
   "metadata": {},
   "outputs": [
    {
     "data": {
      "text/plain": [
       "{(0, 4): <gurobi.Constr *Awaiting Model Update*>,\n",
       " (0, 5): <gurobi.Constr *Awaiting Model Update*>,\n",
       " (1, 5): <gurobi.Constr *Awaiting Model Update*>}"
      ]
     },
     "execution_count": 15,
     "metadata": {},
     "output_type": "execute_result"
    }
   ],
   "source": [
    "# const - minimum uptime first hours\n",
    "model.addConstrs(\n",
    "    gp.quicksum(1 - commitments[i, t] for t in range(minimumups_initial[i])) == 0\n",
    "    for i in range(count_units)\n",
    ")\n",
    "# const - minimum uptime last horus\n",
    "model.addConstrs(\n",
    "    gp.quicksum(\n",
    "        commitments[i, tau] - (commitments[i, t] - commitments[i, t-1])\n",
    "        for tau in range(t, count_times)\n",
    "    ) >= 0\n",
    "    for i in range(count_units) for t in range(count_times - minimumups[i] + 1, count_times)\n",
    ")"
   ]
  },
  {
   "cell_type": "code",
   "execution_count": 16,
   "id": "1700ac86",
   "metadata": {},
   "outputs": [],
   "source": [
    "# const - minimum downtime main\n",
    "# t = minimumdowns_initial[i] + 1, ..., T - minimumdowns (t \\neq 0)\n",
    "model.addConstrs(\n",
    "    gp.quicksum(1 - commitments[i, tau] for tau in range(t, t + minimumdowns[i])) >= (\n",
    "        minimumdowns[i] * (commitments[i, t-1] - commitments[i, t])\n",
    "    )\n",
    "    for i in range(count_units) for t in range(minimumdowns_initial[i] + 1, count_times - minimumdowns[i] + 1)\n",
    ")\n",
    "# t = minimumdowns_initial[i]\n",
    "for i in range(count_units):\n",
    "    t = minimumdowns_initial[i]\n",
    "    lhs = gp.quicksum(1 - commitments[i, tau] for tau in range(t, t + minimumdowns[i]))\n",
    "    if t == 0:\n",
    "        rhs = minimumdowns[i] * (commitments_initial[i] - commitments[i, 0])\n",
    "    else:\n",
    "        rhs = minimumdowns[i] * (commitments[i, t-1] - commitments[i, t])\n",
    "\n",
    "    model.addConstr(lhs >= rhs)"
   ]
  },
  {
   "cell_type": "code",
   "execution_count": 17,
   "id": "36f1c9fe",
   "metadata": {},
   "outputs": [
    {
     "data": {
      "text/plain": [
       "{(0, 5): <gurobi.Constr *Awaiting Model Update*>,\n",
       " (1, 5): <gurobi.Constr *Awaiting Model Update*>,\n",
       " (2, 5): <gurobi.Constr *Awaiting Model Update*>}"
      ]
     },
     "execution_count": 17,
     "metadata": {},
     "output_type": "execute_result"
    }
   ],
   "source": [
    "# const - minimum downtime first hours\n",
    "model.addConstrs(\n",
    "    gp.quicksum(commitments[i, t] for t in range(minimumdowns_initial[i])) == 0\n",
    "    for i in range(count_units)\n",
    ")\n",
    "\n",
    "# const - minimum downtime last hours\n",
    "model.addConstrs(\n",
    "    gp.quicksum(\n",
    "        1 - commitments[i, tau] - (commitments[i, t-1] - commitments[i, t])\n",
    "        for tau in range(t, count_times)\n",
    "    ) >= 0\n",
    "    for i in range(count_units) for t in range(count_times - minimumdowns[i] + 1, count_times)\n",
    ")"
   ]
  },
  {
   "cell_type": "code",
   "execution_count": null,
   "id": "2f2dee19",
   "metadata": {},
   "outputs": [],
   "source": [
    "# generation cost\n",
    "generation_cost = gp.quicksum(\n",
    "    costs_generation[i] * power_outputs[i, t]\n",
    "    for i in range(count_units) for t in range(count_times)\n",
    ")\n",
    "\n",
    "# startup cost\n",
    "startup_cost = gp.quicksum(\n",
    "    costs_startup[i, t]\n",
    "    for i in range(count_units) for t in range(count_times)\n",
    ")\n",
    "\n",
    "# system cost\n",
    "system_cost = generation_cost + startup_cost\n",
    "\n",
    "# objective declaration\n",
    "model.setObjective(system_cost, gp.GRB.MINIMIZE)"
   ]
  },
  {
   "cell_type": "code",
   "execution_count": 19,
   "id": "30669caf",
   "metadata": {},
   "outputs": [],
   "source": [
    "model.optimize()"
   ]
  },
  {
   "cell_type": "code",
   "execution_count": 20,
   "id": "116e106c",
   "metadata": {},
   "outputs": [
    {
     "data": {
      "text/plain": [
       "8800.0"
      ]
     },
     "execution_count": 20,
     "metadata": {},
     "output_type": "execute_result"
    }
   ],
   "source": [
    "model.ObjVal"
   ]
  },
  {
   "cell_type": "code",
   "execution_count": 21,
   "id": "f472f6ca",
   "metadata": {},
   "outputs": [
    {
     "data": {
      "text/plain": [
       "8050.0"
      ]
     },
     "execution_count": 21,
     "metadata": {},
     "output_type": "execute_result"
    }
   ],
   "source": [
    "generation_cost.getValue()"
   ]
  },
  {
   "cell_type": "code",
   "execution_count": 22,
   "id": "c957479d",
   "metadata": {},
   "outputs": [
    {
     "data": {
      "text/plain": [
       "750.0"
      ]
     },
     "execution_count": 22,
     "metadata": {},
     "output_type": "execute_result"
    }
   ],
   "source": [
    "startup_cost.getValue()"
   ]
  },
  {
   "cell_type": "code",
   "execution_count": 32,
   "id": "16159faf",
   "metadata": {},
   "outputs": [],
   "source": [
    "xd = np.array([[commitments[i, t].X for t in range(count_times)] for i in range(count_units)])\n"
   ]
  },
  {
   "cell_type": "code",
   "execution_count": 34,
   "id": "c74714b1",
   "metadata": {},
   "outputs": [
    {
     "data": {
      "text/plain": [
       "array([[ 1.,  1.,  1.,  1.,  1.,  1.],\n",
       "       [ 1.,  1., -0., -0., -0., -0.],\n",
       "       [-0., -0., -0., -0.,  1., -0.]])"
      ]
     },
     "execution_count": 34,
     "metadata": {},
     "output_type": "execute_result"
    }
   ],
   "source": [
    "xd"
   ]
  },
  {
   "cell_type": "code",
   "execution_count": 38,
   "id": "707e4dad",
   "metadata": {},
   "outputs": [
    {
     "data": {
      "text/plain": [
       "np.False_"
      ]
     },
     "execution_count": 38,
     "metadata": {},
     "output_type": "execute_result"
    }
   ],
   "source": [
    "xd[2, 0] <0"
   ]
  },
  {
   "cell_type": "code",
   "execution_count": 39,
   "id": "2efac6c2",
   "metadata": {},
   "outputs": [
    {
     "data": {
      "text/plain": [
       "array([[1, 1, 1, 1, 1, 1],\n",
       "       [1, 1, 0, 0, 0, 0],\n",
       "       [0, 0, 0, 0, 1, 0]], dtype=uint8)"
      ]
     },
     "execution_count": 39,
     "metadata": {},
     "output_type": "execute_result"
    }
   ],
   "source": [
    "xd.astype(np.uint8)"
   ]
  },
  {
   "cell_type": "code",
   "execution_count": 26,
   "id": "5c3bfe6d",
   "metadata": {},
   "outputs": [
    {
     "data": {
      "text/plain": [
       "{(0, 0): 1.0,\n",
       " (0, 1): 1.0,\n",
       " (0, 2): 1.0,\n",
       " (0, 3): 1.0,\n",
       " (0, 4): 1.0,\n",
       " (0, 5): 1.0,\n",
       " (1, 0): 1.0,\n",
       " (1, 1): 1.0,\n",
       " (1, 2): -0.0,\n",
       " (1, 3): -0.0,\n",
       " (1, 4): -0.0,\n",
       " (1, 5): -0.0,\n",
       " (2, 0): -0.0,\n",
       " (2, 1): -0.0,\n",
       " (2, 2): -0.0,\n",
       " (2, 3): -0.0,\n",
       " (2, 4): 1.0,\n",
       " (2, 5): -0.0}"
      ]
     },
     "execution_count": 26,
     "metadata": {},
     "output_type": "execute_result"
    }
   ],
   "source": [
    "model.getAttr(\"X\", commitments)"
   ]
  }
 ],
 "metadata": {
  "kernelspec": {
   "display_name": "base",
   "language": "python",
   "name": "python3"
  },
  "language_info": {
   "codemirror_mode": {
    "name": "ipython",
    "version": 3
   },
   "file_extension": ".py",
   "mimetype": "text/x-python",
   "name": "python",
   "nbconvert_exporter": "python",
   "pygments_lexer": "ipython3",
   "version": "3.12.2"
  }
 },
 "nbformat": 4,
 "nbformat_minor": 5
}
