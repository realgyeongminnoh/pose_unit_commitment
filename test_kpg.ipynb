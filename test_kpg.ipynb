{
 "cells": [
  {
   "cell_type": "code",
   "execution_count": 1,
   "id": "f76c8439",
   "metadata": {},
   "outputs": [],
   "source": [
    "import pickle\n",
    "import numpy as np\n",
    "from pathlib import Path\n",
    "\n",
    "from src.input import Input_uc, Input_ed, Input_ed_prev\n",
    "from src.output import Output_uc, Output_ed, Output_ed_prev\n",
    "from src.unit_commitment import solve_uc\n",
    "from src.economic_dispatch import solve_ed, solve_ed_prev"
   ]
  },
  {
   "cell_type": "code",
   "execution_count": 2,
   "id": "85d8de61",
   "metadata": {},
   "outputs": [],
   "source": [
    "num_units=122\n",
    "num_periods=24\n",
    "num_buses=197"
   ]
  },
  {
   "cell_type": "code",
   "execution_count": 3,
   "id": "4e874343",
   "metadata": {},
   "outputs": [],
   "source": [
    "path_folder_processed_kpg193 = Path.cwd().resolve() / \"data\" / \"input\" / \"processed\" / \"KPG193_ver1_2\"\n",
    "timestamp_2022 = np.load(Path.cwd().resolve() / \"data\" / \"input\" / \"processed\" / \"timestamp_2022.npy\")\n",
    "time_start, time_end = np.datetime64(\"2022-07-02T00\"), np.datetime64(\"2022-07-02T23\")\n",
    "idx_time_start, idx_time_end = np.where(timestamp_2022 == time_start)[0][0], np.where(timestamp_2022 == time_end)[0][0]"
   ]
  },
  {
   "cell_type": "code",
   "execution_count": null,
   "id": "c5c0b687",
   "metadata": {},
   "outputs": [],
   "source": [
    "solar_p_max = np.load(path_folder_processed_kpg193 / \"solar_p_max_2022.npy\")[idx_time_start-1:idx_time_end+1].sum(axis=1)\n",
    "solar_p_min = np.zeros(num_periods + 1)\n",
    "wind_p = np.load(path_folder_processed_kpg193 / \"wind_p_2022.npy\")[idx_time_start-1:idx_time_end+1].sum(axis=1)\n",
    "hydro_p = np.load(path_folder_processed_kpg193 / \"hydro_p_2022.npy\")[idx_time_start-1:idx_time_end+1].sum(axis=1)\n",
    "\n",
    "load = np.load(path_folder_processed_kpg193 / \"demand_2022.npy\")[idx_time_start-1:idx_time_end+1]\n",
    "system_reserve_up = np.zeros(num_periods + 1)\n",
    "system_reserve_down = np.zeros(num_periods + 1)\n",
    "\n",
    "p_min =  np.load(path_folder_processed_kpg193 / \"p_min.npy\")\n",
    "p_max =  np.load(path_folder_processed_kpg193 / \"p_max.npy\")\n",
    "ramp_up =  np.load(path_folder_processed_kpg193 / \"ramp_up.npy\")\n",
    "ramp_down =  np.load(path_folder_processed_kpg193 / \"ramp_down.npy\")\n",
    "startup_ramp =  np.load(path_folder_processed_kpg193 / \"startup_ramp.npy\")\n",
    "shutdown_ramp =  np.load(path_folder_processed_kpg193 / \"shutdown_ramp.npy\")\n",
    "min_up =  np.load(path_folder_processed_kpg193 / \"min_up.npy\")\n",
    "min_down =  np.load(path_folder_processed_kpg193 / \"min_down.npy\")\n",
    "cost_quad =  np.load(path_folder_processed_kpg193 / \"cost_quad.npy\")\n",
    "cost_lin =  np.load(path_folder_processed_kpg193 / \"cost_lin.npy\")\n",
    "cost_const =  np.load(path_folder_processed_kpg193 / \"cost_const.npy\")"
   ]
  },
  {
   "cell_type": "code",
   "execution_count": 6,
   "id": "cfe43413",
   "metadata": {},
   "outputs": [],
   "source": [
    "cost_startup_step = pickle.load(open(path_folder_processed_kpg193 / \"cost_startup_step.pkl\", \"rb\"))\n",
    "num_cooling_steps = np.array([len(csc_i) for csc_i in cost_startup_step])\n",
    "\n",
    "u_prev = [\n",
    "    np.load(path_folder_processed_kpg193 / \"status_2022.npy\")\n",
    "    [idx_time_start-num_cooling_steps.max():idx_time_start]\n",
    "    [:, idx_unit][-lookup:].tolist()\n",
    "    for idx_unit, lookup in enumerate(num_cooling_steps)\n",
    "]"
   ]
  },
  {
   "cell_type": "code",
   "execution_count": 7,
   "id": "9bb1e668",
   "metadata": {},
   "outputs": [],
   "source": [
    "input_ed_prev = Input_ed_prev(\n",
    "    # meta\n",
    "    num_units=num_units,\n",
    "    num_buses=num_buses,\n",
    "    voll=3500*1300,\n",
    "    let_blackout=False,\n",
    "    curtail_penalty=0,\n",
    "    let_curtail=False,\n",
    "    exact_reserve=False,\n",
    "    # renewable\n",
    "    solar_p_max=solar_p_max[0],\n",
    "    solar_p_min=solar_p_min[0],\n",
    "    wind_p=wind_p[0],\n",
    "    hydro_p=hydro_p[0],\n",
    "    # system\n",
    "    load=load[0],\n",
    "    system_reserve_up=system_reserve_up[0],\n",
    "    system_reserve_down=system_reserve_down[0],\n",
    "    # u_prev\n",
    "    u_prev=[u[-1] for u in u_prev],\n",
    "    # operational\n",
    "    p_min=p_min, p_max=p_max, cost_quad=cost_quad, cost_lin=cost_lin, cost_const=cost_const,\n",
    ")"
   ]
  },
  {
   "cell_type": "code",
   "execution_count": 8,
   "id": "43bad4bc",
   "metadata": {},
   "outputs": [
    {
     "name": "stdout",
     "output_type": "stream",
     "text": [
      "Set parameter Username\n",
      "Set parameter LicenseID to value 2659802\n",
      "Academic license - for non-commercial use only - expires 2026-05-01\n"
     ]
    }
   ],
   "source": [
    "output_ed_prev = Output_ed_prev()\n",
    "solve_ed_prev(input_ed_prev=input_ed_prev, output_ed_prev=output_ed_prev)\n",
    "p_prev = output_ed_prev.p"
   ]
  },
  {
   "cell_type": "code",
   "execution_count": 9,
   "id": "5209d0a5",
   "metadata": {},
   "outputs": [
    {
     "data": {
      "text/plain": [
       "array([[  45,    0, 8183],\n",
       "       [  46,  864, 2111],\n",
       "       [  46, 1152, 2759],\n",
       "       [  47, 7296, 8759],\n",
       "       [  49, 8664, 8759],\n",
       "       [  51, 1785, 3287],\n",
       "       [  58, 6432, 8759],\n",
       "       [  60,    0, 8015],\n",
       "       [  61, 1920, 6239],\n",
       "       [  62,  384, 3959],\n",
       "       [  63, 5736, 8759],\n",
       "       [  64, 4032, 5375],\n",
       "       [  65, 7944, 8759],\n",
       "       [  67, 5640, 7055],\n",
       "       [  68,    0, 5423],\n",
       "       [  95, 6072, 6134],\n",
       "       [  95, 7344, 8687],\n",
       "       [  96, 6000, 7367],\n",
       "       [  96, 6144, 7487],\n",
       "       [  99, 1128, 3815],\n",
       "       [  99, 3816, 4367],\n",
       "       [ 103, 5256, 7151]])"
      ]
     },
     "execution_count": 9,
     "metadata": {},
     "output_type": "execute_result"
    }
   ],
   "source": [
    "np.load(path_folder_processed_kpg193 / \"mustoff_2022.npy\")"
   ]
  },
  {
   "cell_type": "code",
   "execution_count": 10,
   "id": "ad1ee934",
   "metadata": {},
   "outputs": [
    {
     "data": {
      "text/plain": [
       "array([ 684.93627989,  602.74842662,  668.12155455,  400.        ,\n",
       "        200.        ,  560.43375337,  610.06695011,  800.        ,\n",
       "        800.        ,  602.34314842,  699.99999998,    0.        ,\n",
       "          0.        ,  440.        ,    0.        ,  542.82106894,\n",
       "        697.43212107,  682.72757022,  579.70193656,  731.09757175,\n",
       "        880.        ,    0.        ,    0.        ,  850.        ,\n",
       "        420.        ,  880.        ,    0.        ,    0.        ,\n",
       "        899.99999209,  880.        ,  413.82712034,  209.        ,\n",
       "        209.        ,  440.        ,  880.        ,    0.        ,\n",
       "        595.36694109,  552.58864022,  592.42761637,  577.00906405,\n",
       "        728.13945197,  586.27171678,  575.30295697,  553.66824709,\n",
       "        554.21874183,    0.        , 1000.        , 1000.        ,\n",
       "       1000.        , 1000.        ,  950.        ,  950.        ,\n",
       "        110.        ,  865.79855456,    0.        ,  880.        ,\n",
       "        500.        ,  585.60281093, 1000.        , 1000.        ,\n",
       "          0.        ,    0.        ,  950.        ,  950.        ,\n",
       "          0.        , 1000.        ,  700.        ,  700.        ,\n",
       "          0.        ,  400.        ,  691.57751788,  711.68163235,\n",
       "        679.01405228,  567.9513373 ,  662.4491805 ,  548.40122504,\n",
       "        793.71939032,  880.        ,  770.        ,  651.00323106,\n",
       "        682.82915745,  616.86932979,  611.85107751,  615.07401019,\n",
       "        770.        ,  770.        ,  440.        ,  688.63140957,\n",
       "          0.        ,  578.57824523,  710.21794311,  637.88583201,\n",
       "        598.48932035,  724.87173112,  559.36865095, 1000.        ,\n",
       "       1000.        ,  950.        ,  950.        ,    0.        ,\n",
       "        440.        ,    0.        ,    0.        , 1400.        ,\n",
       "       1400.        ,  770.        ,    0.        ,    0.        ,\n",
       "        440.        ,  770.        ,  688.91257471,  770.        ,\n",
       "        209.        ,    0.        ,    0.        ,    0.        ,\n",
       "          0.        ,  802.29619598,    0.        ,  880.        ,\n",
       "          0.        ,  770.        ])"
      ]
     },
     "execution_count": 10,
     "metadata": {},
     "output_type": "execute_result"
    }
   ],
   "source": [
    "p_prev"
   ]
  },
  {
   "cell_type": "markdown",
   "id": "416795e3",
   "metadata": {},
   "source": [
    "---\n",
    "---\n",
    "---"
   ]
  },
  {
   "cell_type": "code",
   "execution_count": 11,
   "id": "35ac450b",
   "metadata": {},
   "outputs": [],
   "source": [
    "solar_p_max = solar_p_max[1:]\n",
    "solar_p_min = solar_p_min[1:]\n",
    "wind_p = wind_p[1:]\n",
    "hydro_p = hydro_p[1:]\n",
    "load = load[1:]\n",
    "system_reserve_up = system_reserve_up[1:]\n",
    "system_reserve_down = system_reserve_down[1:]"
   ]
  },
  {
   "cell_type": "code",
   "execution_count": 12,
   "id": "4d0049fe",
   "metadata": {},
   "outputs": [
    {
     "data": {
      "text/plain": [
       "array([[ 257.71626979,  228.51765917,  292.19618611, ...,  359.02610784,\n",
       "         917.84459962,  337.41286243],\n",
       "       [ 246.23522379,  218.33738705,  279.17908845, ...,  343.03179261,\n",
       "         876.95538421,  322.38139935],\n",
       "       [ 238.13442413,  211.15438779,  269.99448102, ...,  331.74651918,\n",
       "         848.10476013,  311.77549541],\n",
       "       ...,\n",
       "       [ 282.20340316,  250.2304614 ,  319.95945843, ...,  393.13928274,\n",
       "        1005.05439488,  369.4724362 ],\n",
       "       [ 269.11870541,  238.62822727,  305.1241561 , ...,  374.91091047,\n",
       "         958.45384778,  352.34140553],\n",
       "       [ 259.65008514,  230.23237806,  294.38872704, ...,  361.7201178 ,\n",
       "         924.73179372,  339.94469394]], shape=(24, 197))"
      ]
     },
     "execution_count": 12,
     "metadata": {},
     "output_type": "execute_result"
    }
   ],
   "source": [
    "load"
   ]
  },
  {
   "cell_type": "code",
   "execution_count": 13,
   "id": "230d8763",
   "metadata": {},
   "outputs": [
    {
     "ename": "ValueError",
     "evalue": "[Input_uc | solar_p_min] got 22, expected 24.",
     "output_type": "error",
     "traceback": [
      "\u001b[0;31m---------------------------------------------------------------------------\u001b[0m",
      "\u001b[0;31mValueError\u001b[0m                                Traceback (most recent call last)",
      "Cell \u001b[0;32mIn[13], line 1\u001b[0m\n\u001b[0;32m----> 1\u001b[0m input_uc \u001b[38;5;241m=\u001b[39m \u001b[43mInput_uc\u001b[49m\u001b[43m(\u001b[49m\n\u001b[1;32m      2\u001b[0m \u001b[43m    \u001b[49m\u001b[38;5;66;43;03m# meta\u001b[39;49;00m\n\u001b[1;32m      3\u001b[0m \u001b[43m    \u001b[49m\u001b[43mnum_units\u001b[49m\u001b[38;5;241;43m=\u001b[39;49m\u001b[43mnum_units\u001b[49m\u001b[43m,\u001b[49m\n\u001b[1;32m      4\u001b[0m \u001b[43m    \u001b[49m\u001b[43mnum_periods\u001b[49m\u001b[38;5;241;43m=\u001b[39;49m\u001b[43mnum_periods\u001b[49m\u001b[43m,\u001b[49m\n\u001b[1;32m      5\u001b[0m \u001b[43m    \u001b[49m\u001b[43mnum_buses\u001b[49m\u001b[38;5;241;43m=\u001b[39;49m\u001b[43mnum_buses\u001b[49m\u001b[43m,\u001b[49m\n\u001b[1;32m      6\u001b[0m \u001b[43m    \u001b[49m\u001b[43mvoll\u001b[49m\u001b[38;5;241;43m=\u001b[39;49m\u001b[38;5;241;43m3500\u001b[39;49m\u001b[38;5;241;43m*\u001b[39;49m\u001b[38;5;241;43m1300\u001b[39;49m\u001b[43m,\u001b[49m\n\u001b[1;32m      7\u001b[0m \u001b[43m    \u001b[49m\u001b[43mlet_blackout\u001b[49m\u001b[38;5;241;43m=\u001b[39;49m\u001b[38;5;28;43;01mFalse\u001b[39;49;00m\u001b[43m,\u001b[49m\n\u001b[1;32m      8\u001b[0m \u001b[43m    \u001b[49m\u001b[43mcurtail_penalty\u001b[49m\u001b[38;5;241;43m=\u001b[39;49m\u001b[38;5;241;43m0\u001b[39;49m\u001b[43m,\u001b[49m\n\u001b[1;32m      9\u001b[0m \u001b[43m    \u001b[49m\u001b[43mlet_curtail\u001b[49m\u001b[38;5;241;43m=\u001b[39;49m\u001b[38;5;28;43;01mFalse\u001b[39;49;00m\u001b[43m,\u001b[49m\n\u001b[1;32m     10\u001b[0m \u001b[43m    \u001b[49m\u001b[43mexact_reserve\u001b[49m\u001b[38;5;241;43m=\u001b[39;49m\u001b[38;5;28;43;01mFalse\u001b[39;49;00m\u001b[43m,\u001b[49m\n\u001b[1;32m     11\u001b[0m \u001b[43m    \u001b[49m\u001b[38;5;66;43;03m# renewable\u001b[39;49;00m\n\u001b[1;32m     12\u001b[0m \u001b[43m    \u001b[49m\u001b[43msolar_p_max\u001b[49m\u001b[38;5;241;43m=\u001b[39;49m\u001b[43msolar_p_max\u001b[49m\u001b[43m,\u001b[49m\n\u001b[1;32m     13\u001b[0m \u001b[43m    \u001b[49m\u001b[43msolar_p_min\u001b[49m\u001b[38;5;241;43m=\u001b[39;49m\u001b[43msolar_p_min\u001b[49m\u001b[43m,\u001b[49m\n\u001b[1;32m     14\u001b[0m \u001b[43m    \u001b[49m\u001b[43mwind_p\u001b[49m\u001b[38;5;241;43m=\u001b[39;49m\u001b[43mwind_p\u001b[49m\u001b[43m,\u001b[49m\n\u001b[1;32m     15\u001b[0m \u001b[43m    \u001b[49m\u001b[43mhydro_p\u001b[49m\u001b[38;5;241;43m=\u001b[39;49m\u001b[43mhydro_p\u001b[49m\u001b[43m,\u001b[49m\n\u001b[1;32m     16\u001b[0m \u001b[43m    \u001b[49m\u001b[38;5;66;43;03m# system\u001b[39;49;00m\n\u001b[1;32m     17\u001b[0m \u001b[43m    \u001b[49m\u001b[43mload\u001b[49m\u001b[38;5;241;43m=\u001b[39;49m\u001b[43mload\u001b[49m\u001b[43m,\u001b[49m\n\u001b[1;32m     18\u001b[0m \u001b[43m    \u001b[49m\u001b[43msystem_reserve_up\u001b[49m\u001b[38;5;241;43m=\u001b[39;49m\u001b[43msystem_reserve_up\u001b[49m\u001b[43m,\u001b[49m\n\u001b[1;32m     19\u001b[0m \u001b[43m    \u001b[49m\u001b[43msystem_reserve_down\u001b[49m\u001b[38;5;241;43m=\u001b[39;49m\u001b[43msystem_reserve_down\u001b[49m\u001b[43m,\u001b[49m\n\u001b[1;32m     20\u001b[0m \u001b[43m    \u001b[49m\u001b[38;5;66;43;03m# operational constraint\u001b[39;49;00m\n\u001b[1;32m     21\u001b[0m \u001b[43m    \u001b[49m\u001b[43mp_min\u001b[49m\u001b[38;5;241;43m=\u001b[39;49m\u001b[43mp_min\u001b[49m\u001b[43m,\u001b[49m\n\u001b[1;32m     22\u001b[0m \u001b[43m    \u001b[49m\u001b[43mp_max\u001b[49m\u001b[38;5;241;43m=\u001b[39;49m\u001b[43mp_max\u001b[49m\u001b[43m,\u001b[49m\n\u001b[1;32m     23\u001b[0m \u001b[43m    \u001b[49m\u001b[43mramp_up\u001b[49m\u001b[38;5;241;43m=\u001b[39;49m\u001b[43mramp_up\u001b[49m\u001b[43m,\u001b[49m\n\u001b[1;32m     24\u001b[0m \u001b[43m    \u001b[49m\u001b[43mramp_down\u001b[49m\u001b[38;5;241;43m=\u001b[39;49m\u001b[43mramp_down\u001b[49m\u001b[43m,\u001b[49m\n\u001b[1;32m     25\u001b[0m \u001b[43m    \u001b[49m\u001b[43mstartup_ramp\u001b[49m\u001b[38;5;241;43m=\u001b[39;49m\u001b[43mstartup_ramp\u001b[49m\u001b[43m,\u001b[49m\n\u001b[1;32m     26\u001b[0m \u001b[43m    \u001b[49m\u001b[43mshutdown_ramp\u001b[49m\u001b[38;5;241;43m=\u001b[39;49m\u001b[43mshutdown_ramp\u001b[49m\u001b[43m,\u001b[49m\n\u001b[1;32m     27\u001b[0m \u001b[43m    \u001b[49m\u001b[43mmin_up\u001b[49m\u001b[38;5;241;43m=\u001b[39;49m\u001b[43mmin_up\u001b[49m\u001b[43m,\u001b[49m\n\u001b[1;32m     28\u001b[0m \u001b[43m    \u001b[49m\u001b[43mmin_down\u001b[49m\u001b[38;5;241;43m=\u001b[39;49m\u001b[43mmin_down\u001b[49m\u001b[43m,\u001b[49m\n\u001b[1;32m     29\u001b[0m \u001b[43m    \u001b[49m\u001b[38;5;66;43;03m# generation cost function\u001b[39;49;00m\n\u001b[1;32m     30\u001b[0m \u001b[43m    \u001b[49m\u001b[43mcost_quad\u001b[49m\u001b[38;5;241;43m=\u001b[39;49m\u001b[43mcost_quad\u001b[49m\u001b[43m,\u001b[49m\n\u001b[1;32m     31\u001b[0m \u001b[43m    \u001b[49m\u001b[43mcost_lin\u001b[49m\u001b[38;5;241;43m=\u001b[39;49m\u001b[43mcost_lin\u001b[49m\u001b[43m,\u001b[49m\n\u001b[1;32m     32\u001b[0m \u001b[43m    \u001b[49m\u001b[43mcost_const\u001b[49m\u001b[38;5;241;43m=\u001b[39;49m\u001b[43mcost_const\u001b[49m\u001b[43m,\u001b[49m\n\u001b[1;32m     33\u001b[0m \u001b[43m    \u001b[49m\u001b[38;5;66;43;03m# previous horizon\u001b[39;49;00m\n\u001b[1;32m     34\u001b[0m \u001b[43m    \u001b[49m\u001b[43mp_prev\u001b[49m\u001b[38;5;241;43m=\u001b[39;49m\u001b[43mp_prev\u001b[49m\u001b[43m,\u001b[49m\n\u001b[1;32m     35\u001b[0m \u001b[43m    \u001b[49m\u001b[43mu_prev\u001b[49m\u001b[38;5;241;43m=\u001b[39;49m\u001b[43mu_prev\u001b[49m\u001b[43m,\u001b[49m\n\u001b[1;32m     36\u001b[0m \u001b[43m    \u001b[49m\u001b[38;5;66;43;03m# startup cost function\u001b[39;49;00m\n\u001b[1;32m     37\u001b[0m \u001b[43m    \u001b[49m\u001b[43mcost_startup_step\u001b[49m\u001b[38;5;241;43m=\u001b[39;49m\u001b[43mcost_startup_step\u001b[49m\u001b[43m,\u001b[49m\n\u001b[1;32m     38\u001b[0m \u001b[43m    \u001b[49m\u001b[38;5;66;43;03m# mustoff\u001b[39;49;00m\n\u001b[1;32m     39\u001b[0m \u001b[43m    \u001b[49m\u001b[38;5;66;43;03m# mustoff=\u001b[39;49;00m\n\u001b[1;32m     40\u001b[0m \u001b[43m)\u001b[49m\n",
      "File \u001b[0;32m~/pse_unit_commitment/src/input.py:76\u001b[0m, in \u001b[0;36mInput_uc.__init__\u001b[0;34m(self, num_units, num_periods, num_buses, voll, let_blackout, curtail_penalty, let_curtail, exact_reserve, solar_p_max, solar_p_min, wind_p, hydro_p, load, system_reserve_up, system_reserve_down, p_min, p_max, ramp_up, ramp_down, startup_ramp, shutdown_ramp, min_up, min_down, cost_quad, cost_lin, cost_const, p_prev, u_prev, cost_startup_step)\u001b[0m\n\u001b[1;32m     73\u001b[0m \u001b[38;5;28mself\u001b[39m\u001b[38;5;241m.\u001b[39mnum_cooling_steps \u001b[38;5;241m=\u001b[39m [\u001b[38;5;28mlen\u001b[39m(csc_i) \u001b[38;5;28;01mfor\u001b[39;00m csc_i \u001b[38;5;129;01min\u001b[39;00m \u001b[38;5;28mself\u001b[39m\u001b[38;5;241m.\u001b[39mcost_startup_step]   \u001b[38;5;66;03m# shape = (num_units,)\u001b[39;00m\n\u001b[1;32m     74\u001b[0m \u001b[38;5;66;03m# mustoff\u001b[39;00m\n\u001b[1;32m     75\u001b[0m \u001b[38;5;66;03m# self.mustoff = \u001b[39;00m\n\u001b[0;32m---> 76\u001b[0m \u001b[38;5;28;43mself\u001b[39;49m\u001b[38;5;241;43m.\u001b[39;49m\u001b[43m_validate_input\u001b[49m\u001b[43m(\u001b[49m\u001b[43m)\u001b[49m\n",
      "File \u001b[0;32m~/pse_unit_commitment/src/input.py:122\u001b[0m, in \u001b[0;36mInput_uc._validate_input\u001b[0;34m(self)\u001b[0m\n\u001b[1;32m    120\u001b[0m     val \u001b[38;5;241m=\u001b[39m \u001b[38;5;28mgetattr\u001b[39m(\u001b[38;5;28mself\u001b[39m, name)\n\u001b[1;32m    121\u001b[0m     \u001b[38;5;28;01mif\u001b[39;00m \u001b[38;5;28mlen\u001b[39m(val) \u001b[38;5;241m!=\u001b[39m \u001b[38;5;28mself\u001b[39m\u001b[38;5;241m.\u001b[39mnum_periods:\n\u001b[0;32m--> 122\u001b[0m         \u001b[38;5;28;01mraise\u001b[39;00m \u001b[38;5;167;01mValueError\u001b[39;00m(\u001b[38;5;124mf\u001b[39m\u001b[38;5;124m\"\u001b[39m\u001b[38;5;124m[Input_uc | \u001b[39m\u001b[38;5;132;01m{\u001b[39;00mname\u001b[38;5;132;01m}\u001b[39;00m\u001b[38;5;124m] got \u001b[39m\u001b[38;5;132;01m{\u001b[39;00m\u001b[38;5;28mlen\u001b[39m(val)\u001b[38;5;132;01m}\u001b[39;00m\u001b[38;5;124m, expected \u001b[39m\u001b[38;5;132;01m{\u001b[39;00m\u001b[38;5;28mself\u001b[39m\u001b[38;5;241m.\u001b[39mnum_periods\u001b[38;5;132;01m}\u001b[39;00m\u001b[38;5;124m.\u001b[39m\u001b[38;5;124m\"\u001b[39m)\n\u001b[1;32m    124\u001b[0m \u001b[38;5;28;01mfor\u001b[39;00m name \u001b[38;5;129;01min\u001b[39;00m unit_based:\n\u001b[1;32m    125\u001b[0m     val \u001b[38;5;241m=\u001b[39m \u001b[38;5;28mgetattr\u001b[39m(\u001b[38;5;28mself\u001b[39m, name)\n",
      "\u001b[0;31mValueError\u001b[0m: [Input_uc | solar_p_min] got 22, expected 24."
     ]
    }
   ],
   "source": [
    "input_uc = Input_uc(\n",
    "    # meta\n",
    "    num_units=num_units,\n",
    "    num_periods=num_periods,\n",
    "    num_buses=num_buses,\n",
    "    voll=3500*1300,\n",
    "    let_blackout=False,\n",
    "    curtail_penalty=0,\n",
    "    let_curtail=False,\n",
    "    exact_reserve=False,\n",
    "    # renewable\n",
    "    solar_p_max=solar_p_max,\n",
    "    solar_p_min=solar_p_min,\n",
    "    wind_p=wind_p,\n",
    "    hydro_p=hydro_p,\n",
    "    # system\n",
    "    load=load,\n",
    "    system_reserve_up=system_reserve_up,\n",
    "    system_reserve_down=system_reserve_down,\n",
    "    # operational constraint\n",
    "    p_min=p_min,\n",
    "    p_max=p_max,\n",
    "    ramp_up=ramp_up,\n",
    "    ramp_down=ramp_down,\n",
    "    startup_ramp=startup_ramp,\n",
    "    shutdown_ramp=shutdown_ramp,\n",
    "    min_up=min_up,\n",
    "    min_down=min_down,\n",
    "    # generation cost function\n",
    "    cost_quad=cost_quad,\n",
    "    cost_lin=cost_lin,\n",
    "    cost_const=cost_const,\n",
    "    # previous horizon\n",
    "    p_prev=p_prev,\n",
    "    u_prev=u_prev,\n",
    "    # startup cost function\n",
    "    cost_startup_step=cost_startup_step,\n",
    "    # mustoff\n",
    "    # mustoff=\n",
    ")\n"
   ]
  },
  {
   "cell_type": "code",
   "execution_count": null,
   "id": "068eb07b",
   "metadata": {},
   "outputs": [],
   "source": []
  },
  {
   "cell_type": "code",
   "execution_count": null,
   "id": "04c43d77",
   "metadata": {},
   "outputs": [
    {
     "ename": "GurobiModelStatus",
     "evalue": "3",
     "output_type": "error",
     "traceback": [
      "\u001b[0;31m---------------------------------------------------------------------------\u001b[0m",
      "\u001b[0;31mGurobiModelStatus\u001b[0m                         Traceback (most recent call last)",
      "Cell \u001b[0;32mIn[17], line 2\u001b[0m\n\u001b[1;32m      1\u001b[0m output_uc \u001b[38;5;241m=\u001b[39m Output_uc()\n\u001b[0;32m----> 2\u001b[0m \u001b[43msolve_uc\u001b[49m\u001b[43m(\u001b[49m\u001b[43minput_uc\u001b[49m\u001b[38;5;241;43m=\u001b[39;49m\u001b[43minput_uc\u001b[49m\u001b[43m,\u001b[49m\u001b[43m \u001b[49m\u001b[43moutput_uc\u001b[49m\u001b[38;5;241;43m=\u001b[39;49m\u001b[43moutput_uc\u001b[49m\u001b[43m)\u001b[49m\n",
      "File \u001b[0;32m~/pse_unit_commitment/src/unit_commitment.py:353\u001b[0m, in \u001b[0;36msolve_uc\u001b[0;34m(input_uc, output_uc)\u001b[0m\n\u001b[1;32m    350\u001b[0m \u001b[38;5;66;03m# NON-OPTIMALITY\u001b[39;00m\n\u001b[1;32m    351\u001b[0m \u001b[38;5;28;01mif\u001b[39;00m model\u001b[38;5;241m.\u001b[39mStatus \u001b[38;5;241m!=\u001b[39m gp\u001b[38;5;241m.\u001b[39mGRB\u001b[38;5;241m.\u001b[39mOPTIMAL:\n\u001b[1;32m    352\u001b[0m     \u001b[38;5;66;03m# if True then probably should let_curtail True then incrementally decrease solar_p_min from solar_p_max recursively to get OPTIMALITY\u001b[39;00m\n\u001b[0;32m--> 353\u001b[0m     \u001b[38;5;28;01mraise\u001b[39;00m GurobiModelStatus(model\u001b[38;5;241m.\u001b[39mStatus)\n\u001b[1;32m    355\u001b[0m \u001b[38;5;66;03m#################### OUTPUT_UC REGISTER ####################\u001b[39;00m\n\u001b[1;32m    356\u001b[0m output_uc\u001b[38;5;241m.\u001b[39mtotal_cost_system \u001b[38;5;241m=\u001b[39m total_cost_system\u001b[38;5;241m.\u001b[39mgetValue()\n",
      "\u001b[0;31mGurobiModelStatus\u001b[0m: 3"
     ]
    }
   ],
   "source": [
    "output_uc = Output_uc()\n",
    "solve_uc(input_uc=input_uc, output_uc=output_uc)"
   ]
  },
  {
   "cell_type": "code",
   "execution_count": null,
   "id": "7afad16f",
   "metadata": {},
   "outputs": [],
   "source": []
  }
 ],
 "metadata": {
  "kernelspec": {
   "display_name": "base",
   "language": "python",
   "name": "python3"
  },
  "language_info": {
   "codemirror_mode": {
    "name": "ipython",
    "version": 3
   },
   "file_extension": ".py",
   "mimetype": "text/x-python",
   "name": "python",
   "nbconvert_exporter": "python",
   "pygments_lexer": "ipython3",
   "version": "3.12.2"
  }
 },
 "nbformat": 4,
 "nbformat_minor": 5
}
