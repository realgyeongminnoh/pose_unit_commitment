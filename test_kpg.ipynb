{
 "cells": [
  {
   "cell_type": "code",
   "execution_count": 1,
   "id": "f76c8439",
   "metadata": {},
   "outputs": [],
   "source": [
    "import pickle\n",
    "import numpy as np\n",
    "from pathlib import Path\n",
    "\n",
    "from src.input import Input_uc, Input_ed, Input_ed_prev\n",
    "from src.output import Output_uc, Output_ed, Output_ed_prev\n",
    "from src.unit_commitment import solve_uc\n",
    "from src.economic_dispatch import solve_ed, solve_ed_prev"
   ]
  },
  {
   "cell_type": "code",
   "execution_count": 2,
   "id": "85d8de61",
   "metadata": {},
   "outputs": [],
   "source": [
    "num_units=122\n",
    "num_periods=24\n",
    "num_buses=197"
   ]
  },
  {
   "cell_type": "code",
   "execution_count": 3,
   "id": "4e874343",
   "metadata": {},
   "outputs": [],
   "source": [
    "path_folder_processed_kpg193 = Path.cwd().resolve() / \"data\" / \"input\" / \"processed\" / \"KPG193_ver1_2\"\n",
    "timestamp_2022 = np.load(Path.cwd().resolve() / \"data\" / \"input\" / \"processed\" / \"timestamp_2022.npy\")\n",
    "time_start, time_end = np.datetime64(\"2022-07-02T00\"), np.datetime64(\"2022-07-02T23\")\n",
    "idx_time_start, idx_time_end = np.where(timestamp_2022 == time_start)[0][0], np.where(timestamp_2022 == time_end)[0][0]"
   ]
  },
  {
   "cell_type": "code",
   "execution_count": 4,
   "id": "c5c0b687",
   "metadata": {},
   "outputs": [],
   "source": [
    "solar_p_max = np.load(path_folder_processed_kpg193 / \"solar_p_max_2022.npy\")[idx_time_start-1:idx_time_end+1].sum(axis=1)\n",
    "solar_p_min = np.zeros(num_periods + 1)\n",
    "wind_p = np.load(path_folder_processed_kpg193 / \"wind_p_2022.npy\")[idx_time_start-1:idx_time_end+1].sum(axis=1)\n",
    "hydro_p = np.load(path_folder_processed_kpg193 / \"hydro_p_2022.npy\")[idx_time_start-1:idx_time_end+1].sum(axis=1)\n",
    "\n",
    "load = np.load(path_folder_processed_kpg193 / \"demand_2022.npy\")[idx_time_start-1:idx_time_end+1]\n",
    "system_reserve_up = np.zeros(num_periods + 1)\n",
    "system_reserve_down = np.zeros(num_periods + 1)\n",
    "\n",
    "p_min =  np.load(path_folder_processed_kpg193 / \"p_min.npy\")\n",
    "p_max =  np.load(path_folder_processed_kpg193 / \"p_max.npy\")\n",
    "ramp_up =  np.load(path_folder_processed_kpg193 / \"ramp_up.npy\")\n",
    "ramp_down =  np.load(path_folder_processed_kpg193 / \"ramp_down.npy\")\n",
    "startup_ramp =  np.load(path_folder_processed_kpg193 / \"startup_ramp.npy\")\n",
    "shutdown_ramp =  np.load(path_folder_processed_kpg193 / \"shutdown_ramp.npy\")\n",
    "min_up =  np.load(path_folder_processed_kpg193 / \"min_up.npy\")\n",
    "min_down =  np.load(path_folder_processed_kpg193 / \"min_down.npy\")\n",
    "cost_quad =  np.load(path_folder_processed_kpg193 / \"cost_quad.npy\")\n",
    "cost_lin =  np.load(path_folder_processed_kpg193 / \"cost_lin.npy\")\n",
    "cost_const =  np.load(path_folder_processed_kpg193 / \"cost_const.npy\")"
   ]
  },
  {
   "cell_type": "code",
   "execution_count": 5,
   "id": "cfe43413",
   "metadata": {},
   "outputs": [],
   "source": [
    "cost_startup_step = pickle.load(open(path_folder_processed_kpg193 / \"cost_startup_step.pkl\", \"rb\"))\n",
    "num_cooling_steps = np.array([len(csc_i) for csc_i in cost_startup_step])\n",
    "\n",
    "u_prev = [\n",
    "    np.load(path_folder_processed_kpg193 / \"status_2022.npy\")\n",
    "    [idx_time_start-num_cooling_steps.max():idx_time_start]\n",
    "    [:, idx_unit][-lookup:].tolist()\n",
    "    for idx_unit, lookup in enumerate(num_cooling_steps)\n",
    "]"
   ]
  },
  {
   "cell_type": "code",
   "execution_count": 6,
   "id": "1b2ff2fe",
   "metadata": {},
   "outputs": [],
   "source": [
    "mustoff_2022 = np.load(path_folder_processed_kpg193 / \"mustoff_2022.npy\")\n",
    "mustoff_2022 = mustoff_2022[\n",
    "    (mustoff_2022[:, 2] >= idx_time_start) & (mustoff_2022[:, 1] <= idx_time_end)\n",
    "]\n",
    "mustoff = []\n",
    "for unit, start, end in mustoff_2022.tolist():\n",
    "    start_clipped = max(start, idx_time_start)\n",
    "    end_clipped = min(end, idx_time_end)\n",
    "    for t in range(start_clipped, end_clipped + 1):\n",
    "        mustoff.append((unit, t - int(idx_time_start)))"
   ]
  },
  {
   "cell_type": "code",
   "execution_count": 7,
   "id": "9bb1e668",
   "metadata": {},
   "outputs": [],
   "source": [
    "# p_prev = solve_ed_prev(\n",
    "#     input_ed_prev=Input_ed_prev(\n",
    "#         # meta\n",
    "#         num_units=num_units,\n",
    "#         num_buses=num_buses,\n",
    "#         voll=3500*1300,\n",
    "#         let_blackout=False,\n",
    "#         curtail_penalty=0,\n",
    "#         let_curtail=False,\n",
    "#         exact_reserve=False,\n",
    "#         # renewable\n",
    "#         solar_p_max=solar_p_max[0],\n",
    "#         solar_p_min=solar_p_min[0],\n",
    "#         wind_p=wind_p[0],\n",
    "#         hydro_p=hydro_p[0],\n",
    "#         # system\n",
    "#         load=load[0],\n",
    "#         system_reserve_up=system_reserve_up[0],\n",
    "#         system_reserve_down=system_reserve_down[0],\n",
    "#         # u_prev\n",
    "#         u_prev=[u[-1] for u in u_prev],\n",
    "#         # operational\n",
    "#         p_min=p_min, p_max=p_max, cost_quad=cost_quad, cost_lin=cost_lin, cost_const=cost_const,\n",
    "#     ), \n",
    "#     output_ed_prev=Output_ed_prev(), \n",
    "#     only_p_prev=True,\n",
    "# )"
   ]
  },
  {
   "cell_type": "code",
   "execution_count": 8,
   "id": "dddd8e84",
   "metadata": {},
   "outputs": [
    {
     "name": "stdout",
     "output_type": "stream",
     "text": [
      "Set parameter Username\n",
      "Set parameter LicenseID to value 2659802\n",
      "Academic license - for non-commercial use only - expires 2026-05-01\n"
     ]
    }
   ],
   "source": [
    "input_ed_prev=Input_ed_prev(\n",
    "    # meta\n",
    "    num_units=num_units,\n",
    "    num_buses=num_buses,\n",
    "    voll=3500*1300,\n",
    "    let_blackout=False,\n",
    "    curtail_penalty=0,\n",
    "    let_curtail=False,\n",
    "    exact_reserve=False,\n",
    "    # renewable\n",
    "    solar_p_max=solar_p_max[0],\n",
    "    solar_p_min=solar_p_min[0],\n",
    "    wind_p=wind_p[0],\n",
    "    hydro_p=hydro_p[0],\n",
    "    # system\n",
    "    load=load[0],\n",
    "    system_reserve_up=system_reserve_up[0],\n",
    "    system_reserve_down=system_reserve_down[0],\n",
    "    # u_prev\n",
    "    u_prev=[u[-1] for u in u_prev],\n",
    "    # operational\n",
    "    p_min=p_min, p_max=p_max, cost_quad=cost_quad, cost_lin=cost_lin, cost_const=cost_const,\n",
    ")\n",
    "output_ed_prev = Output_ed_prev()\n",
    "solve_ed_prev(input_ed_prev=input_ed_prev, output_ed_prev=output_ed_prev, only_p_prev=False)\n",
    "p_prev = output_ed_prev.p"
   ]
  },
  {
   "cell_type": "code",
   "execution_count": 9,
   "id": "94baa44f",
   "metadata": {},
   "outputs": [],
   "source": [
    "solar_p_max = solar_p_max[1:]\n",
    "solar_p_min = solar_p_min[1:]\n",
    "wind_p = wind_p[1:]\n",
    "hydro_p = hydro_p[1:]\n",
    "load = load[1:]\n",
    "system_reserve_up = system_reserve_up[1:]\n",
    "system_reserve_down = system_reserve_down[1:]"
   ]
  },
  {
   "cell_type": "markdown",
   "id": "416795e3",
   "metadata": {},
   "source": [
    "---\n",
    "---\n",
    "---"
   ]
  },
  {
   "cell_type": "code",
   "execution_count": 10,
   "id": "230d8763",
   "metadata": {},
   "outputs": [],
   "source": [
    "input_uc = Input_uc(\n",
    "    # meta\n",
    "    num_units=num_units,\n",
    "    num_periods=num_periods,\n",
    "    num_buses=num_buses,\n",
    "    voll=3500*1300,\n",
    "    let_blackout=False,\n",
    "    curtail_penalty=0,\n",
    "    let_curtail=False,\n",
    "    exact_reserve=False,\n",
    "    # renewable\n",
    "    solar_p_max=solar_p_max,\n",
    "    solar_p_min=solar_p_min,\n",
    "    wind_p=wind_p,\n",
    "    hydro_p=hydro_p,\n",
    "    # system\n",
    "    load=load,\n",
    "    system_reserve_up=system_reserve_up,\n",
    "    system_reserve_down=system_reserve_down,\n",
    "    # operational constraint\n",
    "    p_min=p_min,\n",
    "    p_max=p_max,\n",
    "    ramp_up=ramp_up,\n",
    "    ramp_down=ramp_down,\n",
    "    startup_ramp=startup_ramp,\n",
    "    shutdown_ramp=shutdown_ramp,\n",
    "    min_up=min_up,\n",
    "    min_down=min_down,\n",
    "    # generation cost function\n",
    "    cost_quad=cost_quad,\n",
    "    cost_lin=cost_lin,\n",
    "    cost_const=cost_const,\n",
    "    # previous horizon\n",
    "    p_prev=p_prev,\n",
    "    u_prev=u_prev,\n",
    "    # startup cost function\n",
    "    cost_startup_step=cost_startup_step,\n",
    "    # mustoff\n",
    "    mustoff=mustoff,\n",
    ")"
   ]
  },
  {
   "cell_type": "code",
   "execution_count": 11,
   "id": "9328c2b7",
   "metadata": {},
   "outputs": [
    {
     "data": {
      "text/plain": [
       "array([0, 0, 0, 0, 0, 0, 0, 0, 0, 0, 0, 0, 0, 0, 0, 0, 0, 0, 0, 0, 0, 0,\n",
       "       0, 0, 0, 0, 0, 0, 0, 0, 0, 0, 0, 0, 0, 0, 0, 0, 0, 0, 0, 0, 0, 0,\n",
       "       0, 0, 0, 0, 0, 0, 0, 0, 0, 0, 0, 0, 0, 0, 0, 0, 0, 0, 0, 0, 0, 0,\n",
       "       0, 0, 0, 0, 0, 0, 0, 0, 0, 0, 0, 0, 0, 0, 0, 0, 0, 0, 0, 0, 0, 0,\n",
       "       0, 0, 0, 0, 0, 0, 0, 0, 0, 0, 0, 0, 0, 0, 0, 0, 0, 0, 0, 0, 0, 0,\n",
       "       0, 0, 0, 0, 0, 0, 0, 0, 0, 0, 0, 0])"
      ]
     },
     "execution_count": 11,
     "metadata": {},
     "output_type": "execute_result"
    }
   ],
   "source": [
    "np.array(input_uc.min_up_prev)"
   ]
  },
  {
   "cell_type": "code",
   "execution_count": 12,
   "id": "8b999f8a",
   "metadata": {},
   "outputs": [
    {
     "data": {
      "text/plain": [
       "array([0, 0, 0, 0, 0, 0, 0, 0, 0, 0, 0, 0, 0, 0, 0, 0, 0, 0, 0, 0, 0, 0,\n",
       "       0, 0, 0, 0, 0, 0, 0, 0, 0, 0, 0, 0, 0, 2, 0, 0, 0, 0, 0, 0, 0, 0,\n",
       "       0, 0, 0, 0, 0, 0, 0, 0, 0, 0, 0, 0, 0, 0, 0, 0, 0, 0, 0, 0, 0, 0,\n",
       "       0, 0, 0, 0, 0, 0, 0, 0, 0, 0, 0, 0, 0, 0, 0, 0, 0, 0, 0, 0, 0, 0,\n",
       "       0, 0, 0, 0, 0, 0, 0, 0, 0, 0, 0, 0, 0, 0, 1, 0, 0, 0, 0, 0, 0, 0,\n",
       "       0, 0, 0, 0, 1, 0, 0, 0, 0, 0, 0, 0])"
      ]
     },
     "execution_count": 12,
     "metadata": {},
     "output_type": "execute_result"
    }
   ],
   "source": [
    "np.array(input_uc.min_down_prev)"
   ]
  },
  {
   "cell_type": "code",
   "execution_count": 14,
   "id": "22c8098d",
   "metadata": {},
   "outputs": [
    {
     "ename": "NameError",
     "evalue": "name 'asdf' is not defined",
     "output_type": "error",
     "traceback": [
      "\u001b[0;31m---------------------------------------------------------------------------\u001b[0m",
      "\u001b[0;31mNameError\u001b[0m                                 Traceback (most recent call last)",
      "Cell \u001b[0;32mIn[14], line 1\u001b[0m\n\u001b[0;32m----> 1\u001b[0m \u001b[43masdf\u001b[49m\n",
      "\u001b[0;31mNameError\u001b[0m: name 'asdf' is not defined"
     ]
    }
   ],
   "source": [
    "asdf"
   ]
  },
  {
   "cell_type": "code",
   "execution_count": null,
   "id": "04c43d77",
   "metadata": {},
   "outputs": [],
   "source": [
    "output_uc = Output_uc()\n",
    "solve_uc(input_uc=input_uc, output_uc=output_uc)"
   ]
  },
  {
   "cell_type": "code",
   "execution_count": null,
   "id": "7afad16f",
   "metadata": {},
   "outputs": [],
   "source": []
  }
 ],
 "metadata": {
  "kernelspec": {
   "display_name": "base",
   "language": "python",
   "name": "python3"
  },
  "language_info": {
   "codemirror_mode": {
    "name": "ipython",
    "version": 3
   },
   "file_extension": ".py",
   "mimetype": "text/x-python",
   "name": "python",
   "nbconvert_exporter": "python",
   "pygments_lexer": "ipython3",
   "version": "3.12.2"
  }
 },
 "nbformat": 4,
 "nbformat_minor": 5
}
