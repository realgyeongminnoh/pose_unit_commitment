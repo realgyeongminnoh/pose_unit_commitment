{
 "cells": [
  {
   "cell_type": "code",
   "execution_count": 1,
   "id": "c05fd005",
   "metadata": {},
   "outputs": [],
   "source": [
    "import numpy as np\n",
    "import matplotlib.pyplot as plt\n",
    "\n",
    "from src.input import Input_uc, Input_ed\n",
    "from src.output import Output_uc, Output_ed\n",
    "from src.unit_commitment import solve_uc\n",
    "from src.economic_dispatch import solve_ed"
   ]
  },
  {
   "cell_type": "code",
   "execution_count": 2,
   "id": "6ea113b1",
   "metadata": {},
   "outputs": [],
   "source": [
    "num_units=3\n",
    "num_periods=6\n",
    "num_buses=1"
   ]
  },
  {
   "cell_type": "code",
   "execution_count": 3,
   "id": "c9fe4de5",
   "metadata": {},
   "outputs": [],
   "source": [
    "COPYPASTE = np.zeros(num_periods)"
   ]
  },
  {
   "cell_type": "code",
   "execution_count": 4,
   "id": "7401031b",
   "metadata": {},
   "outputs": [],
   "source": [
    "input_uc = Input_uc(\n",
    "    # meta\n",
    "    num_units=num_units,\n",
    "    num_periods=num_periods,\n",
    "    num_buses=num_buses,\n",
    "    voll=3500*1300,\n",
    "    let_blackout=False,\n",
    "    curtail_penalty=0,\n",
    "    let_curtail=False,\n",
    "    exact_reserve=False,\n",
    "    # renewable\n",
    "    solar_p_max=COPYPASTE.copy(),\n",
    "    solar_p_min=COPYPASTE.copy(),\n",
    "    wind_p=COPYPASTE.copy(),\n",
    "    hydro_p=COPYPASTE.copy(),\n",
    "    # system\n",
    "    load=[220, 250, 200, 170, 230, 190],\n",
    "    system_reserve_up=[10, 10, 10, 10, 10, 10], # COPYPASTE.copy(),\n",
    "    system_reserve_down=COPYPASTE.copy(), # [10, 10, 10, 0, 10, 10], \n",
    "    # operational constraint\n",
    "    p_min=[80, 50, 30],\n",
    "    p_max=[300, 200, 100],\n",
    "    ramp_up=[50, 60, 70],\n",
    "    ramp_down=[30, 40, 50],\n",
    "    startup_ramp=[100, 70, 40],\n",
    "    shutdown_ramp=[80, 50, 30],\n",
    "    min_up=[3, 2, 1],\n",
    "    min_down=[2, 2, 2],\n",
    "    # generation cost function\n",
    "    cost_quad=[0, 0, 0],\n",
    "    cost_lin=[5, 15, 30],\n",
    "    cost_const=[0, 0, 0],\n",
    "    # previous horizon\n",
    "    min_up_prev=[2, 0, 0],\n",
    "    min_down_prev=[0, 0, 0],\n",
    "    p_prev=[120, 0, 0],\n",
    "    u_prev=[\n",
    "        [1],\n",
    "        [0],\n",
    "        [0],\n",
    "    ],\n",
    "    # startup cost function\n",
    "    cost_startup_step=[\n",
    "        [800],\n",
    "        [500],\n",
    "        [250],\n",
    "    ],\n",
    ")"
   ]
  },
  {
   "cell_type": "code",
   "execution_count": 5,
   "id": "925f9881",
   "metadata": {},
   "outputs": [
    {
     "name": "stdout",
     "output_type": "stream",
     "text": [
      "Set parameter Username\n",
      "Set parameter LicenseID to value 2659802\n",
      "Academic license - for non-commercial use only - expires 2026-05-01\n"
     ]
    }
   ],
   "source": [
    "output_uc = Output_uc()\n",
    "solve_uc(input_uc=input_uc, output_uc=output_uc)"
   ]
  },
  {
   "cell_type": "code",
   "execution_count": 6,
   "id": "6b6a89b4",
   "metadata": {},
   "outputs": [
    {
     "ename": "AttributeError",
     "evalue": "'float' object has no attribute 'X'",
     "output_type": "error",
     "traceback": [
      "\u001b[0;31m---------------------------------------------------------------------------\u001b[0m",
      "\u001b[0;31mAttributeError\u001b[0m                            Traceback (most recent call last)",
      "Cell \u001b[0;32mIn[6], line 22\u001b[0m\n\u001b[1;32m      3\u001b[0m \u001b[38;5;28;01mfor\u001b[39;00m time_period \u001b[38;5;129;01min\u001b[39;00m \u001b[38;5;28mrange\u001b[39m(num_periods):\n\u001b[1;32m      4\u001b[0m     input_ed \u001b[38;5;241m=\u001b[39m Input_ed(\n\u001b[1;32m      5\u001b[0m         \u001b[38;5;66;03m# meta\u001b[39;00m\n\u001b[1;32m      6\u001b[0m         time_period\u001b[38;5;241m=\u001b[39mtime_period,\n\u001b[0;32m   (...)\u001b[0m\n\u001b[1;32m     19\u001b[0m         output_uc\u001b[38;5;241m=\u001b[39moutput_uc,\n\u001b[1;32m     20\u001b[0m     )\n\u001b[0;32m---> 22\u001b[0m     \u001b[43msolve_ed\u001b[49m\u001b[43m(\u001b[49m\u001b[43minput_ed\u001b[49m\u001b[38;5;241;43m=\u001b[39;49m\u001b[43minput_ed\u001b[49m\u001b[43m,\u001b[49m\u001b[43m \u001b[49m\u001b[43moutput_ed\u001b[49m\u001b[38;5;241;43m=\u001b[39;49m\u001b[43moutput_ed\u001b[49m\u001b[43m)\u001b[49m\n\u001b[1;32m     24\u001b[0m output_ed\u001b[38;5;241m.\u001b[39mcompute_auxiliary_results()\n",
      "File \u001b[0;32m~/pse_unit_commitment/src/economic_dispatch.py:171\u001b[0m, in \u001b[0;36msolve_ed\u001b[0;34m(input_ed, output_ed)\u001b[0m\n\u001b[1;32m    169\u001b[0m output_ed\u001b[38;5;241m.\u001b[39mblackout[time_period] \u001b[38;5;241m=\u001b[39m (\u001b[38;5;241m1\u001b[39m\u001b[38;5;241m-\u001b[39m output_ed\u001b[38;5;241m.\u001b[39mz[time_period]) \u001b[38;5;241m*\u001b[39m np\u001b[38;5;241m.\u001b[39marray(load)\n\u001b[1;32m    170\u001b[0m output_ed\u001b[38;5;241m.\u001b[39msolar_p[time_period] \u001b[38;5;241m=\u001b[39m solar_p\u001b[38;5;241m.\u001b[39mX \u001b[38;5;28;01mif\u001b[39;00m let_curtail \u001b[38;5;28;01melse\u001b[39;00m solar_p_max\n\u001b[0;32m--> 171\u001b[0m output_ed\u001b[38;5;241m.\u001b[39msolar_curtail[time_period] \u001b[38;5;241m=\u001b[39m solar_p_max \u001b[38;5;241m-\u001b[39m \u001b[43msolar_p\u001b[49m\u001b[38;5;241;43m.\u001b[39;49m\u001b[43mX\u001b[49m\n\u001b[1;32m    173\u001b[0m output_ed\u001b[38;5;241m.\u001b[39msmp[time_period] \u001b[38;5;241m=\u001b[39m CONSTR_LOAD\u001b[38;5;241m.\u001b[39mPi\n\u001b[1;32m    174\u001b[0m output_ed\u001b[38;5;241m.\u001b[39mcost_reserve_up[time_period] \u001b[38;5;241m=\u001b[39m CONSTR_RESERVEUP\u001b[38;5;241m.\u001b[39mPi\n",
      "\u001b[0;31mAttributeError\u001b[0m: 'float' object has no attribute 'X'"
     ]
    }
   ],
   "source": [
    "output_ed = Output_ed(num_periods=num_periods, num_units=num_units, num_buses=num_buses)\n",
    "\n",
    "for time_period in range(num_periods):\n",
    "    input_ed = Input_ed(\n",
    "        # meta\n",
    "        time_period=time_period,\n",
    "        num_units=num_units,\n",
    "        num_buses=num_buses,\n",
    "        voll=3500*1300,\n",
    "        let_blackout=False,\n",
    "        curtail_penalty=0,\n",
    "        let_curtail=False,\n",
    "        exact_reserve=False,\n",
    "        # renewable\n",
    "        solar_p_max=COPYPASTE.copy(),\n",
    "        solar_p_min=COPYPASTE.copy(),\n",
    "        # uc\n",
    "        input_uc=input_uc,\n",
    "        output_uc=output_uc,\n",
    "    )\n",
    "\n",
    "    solve_ed(input_ed=input_ed, output_ed=output_ed)\n",
    "\n",
    "output_ed.compute_auxiliary_results()"
   ]
  },
  {
   "cell_type": "code",
   "execution_count": null,
   "id": "1a236ab3",
   "metadata": {},
   "outputs": [
    {
     "data": {
      "text/plain": [
       "{'cost_system': array([1600., 1750., 1000.,  850., 1900.,  950.]),\n",
       " 'cost_generation': array([1600., 1750., 1000.,  850., 1900.,  950.]),\n",
       " 'cost_voll': array([0., 0., 0., 0., 0., 0.]),\n",
       " 'cost_curtail_penalty': array([0., 0., 0., 0., 0., 0.]),\n",
       " 'p': array([[170., 200., 200., 170., 200., 190.],\n",
       "        [ 50.,  50.,   0.,   0.,   0.,   0.],\n",
       "        [  0.,   0.,   0.,   0.,  30.,   0.]]),\n",
       " 'solar_p': array([0., 0., 0., 0., 0., 0.]),\n",
       " 'z': array([[1.],\n",
       "        [1.],\n",
       "        [1.],\n",
       "        [1.],\n",
       "        [1.],\n",
       "        [1.]]),\n",
       " 'smp': array([5., 5., 5., 5., 5., 5.]),\n",
       " 'cost_reserve_up': array([0., 0., 0., 0., 0., 0.]),\n",
       " 'cost_reserve_down': array([0., 0., 0., 0., 0., 0.]),\n",
       " 'total_cost_system': 8050.0,\n",
       " 'total_cost_generation': 8050.0,\n",
       " 'total_cost_voll': 0.0,\n",
       " 'total_cost_curtail_penalty': 0.0,\n",
       " 'cost_retailor': array([1100., 1250., 1000.,  850., 1150.,  950.]),\n",
       " 'total_cost_retailor': 6300.0}"
      ]
     },
     "execution_count": 7,
     "metadata": {},
     "output_type": "execute_result"
    }
   ],
   "source": [
    "output_ed.__dict__"
   ]
  },
  {
   "cell_type": "code",
   "execution_count": null,
   "id": "8206f504",
   "metadata": {},
   "outputs": [
    {
     "data": {
      "text/plain": [
       "np.True_"
      ]
     },
     "execution_count": 8,
     "metadata": {},
     "output_type": "execute_result"
    }
   ],
   "source": [
    "np.all(output_uc.p == output_ed.p)"
   ]
  },
  {
   "cell_type": "code",
   "execution_count": null,
   "id": "b2147d9f",
   "metadata": {},
   "outputs": [
    {
     "data": {
      "text/plain": [
       "array([ True,  True,  True,  True,  True,  True])"
      ]
     },
     "execution_count": 9,
     "metadata": {},
     "output_type": "execute_result"
    }
   ],
   "source": [
    "output_uc.cost_generation == output_ed.cost_generation"
   ]
  },
  {
   "cell_type": "code",
   "execution_count": null,
   "id": "2ec3c34f",
   "metadata": {},
   "outputs": [
    {
     "data": {
      "text/plain": [
       "array([2100., 1750., 1000.,  850., 2150.,  950.])"
      ]
     },
     "execution_count": 12,
     "metadata": {},
     "output_type": "execute_result"
    }
   ],
   "source": [
    "output_uc.cost_system"
   ]
  },
  {
   "cell_type": "code",
   "execution_count": null,
   "id": "7fd5d1f4",
   "metadata": {},
   "outputs": [
    {
     "data": {
      "text/plain": [
       "array([1600., 1750., 1000.,  850., 1900.,  950.])"
      ]
     },
     "execution_count": 13,
     "metadata": {},
     "output_type": "execute_result"
    }
   ],
   "source": [
    "output_ed.cost_system"
   ]
  },
  {
   "cell_type": "code",
   "execution_count": null,
   "id": "110833f2",
   "metadata": {},
   "outputs": [
    {
     "data": {
      "text/plain": [
       "array([0., 0., 0., 0., 0., 0.])"
      ]
     },
     "execution_count": 11,
     "metadata": {},
     "output_type": "execute_result"
    }
   ],
   "source": [
    "output_ed.cost_voll"
   ]
  }
 ],
 "metadata": {
  "kernelspec": {
   "display_name": "base",
   "language": "python",
   "name": "python3"
  },
  "language_info": {
   "codemirror_mode": {
    "name": "ipython",
    "version": 3
   },
   "file_extension": ".py",
   "mimetype": "text/x-python",
   "name": "python",
   "nbconvert_exporter": "python",
   "pygments_lexer": "ipython3",
   "version": "3.12.2"
  }
 },
 "nbformat": 4,
 "nbformat_minor": 5
}
