{
 "cells": [
  {
   "cell_type": "code",
   "execution_count": 1,
   "id": "c05fd005",
   "metadata": {},
   "outputs": [],
   "source": [
    "import numpy as np\n",
    "import matplotlib.pyplot as plt\n",
    "\n",
    "from src.input import Input_uc, Input_ed\n",
    "from src.output import Output_uc, Output_ed\n",
    "from src.unit_commitment import solve_uc\n",
    "from src.economic_dispatch import solve_ed"
   ]
  },
  {
   "cell_type": "code",
   "execution_count": 2,
   "id": "6ea113b1",
   "metadata": {},
   "outputs": [],
   "source": [
    "num_units=3\n",
    "num_periods=6\n",
    "num_buses=1"
   ]
  },
  {
   "cell_type": "code",
   "execution_count": 3,
   "id": "c9fe4de5",
   "metadata": {},
   "outputs": [],
   "source": [
    "COPYPASTE = np.zeros(num_periods)"
   ]
  },
  {
   "cell_type": "code",
   "execution_count": 4,
   "id": "7401031b",
   "metadata": {},
   "outputs": [],
   "source": [
    "input_uc = Input_uc(\n",
    "    # meta\n",
    "    num_units=num_units,\n",
    "    num_periods=num_periods,\n",
    "    num_buses=num_buses,\n",
    "    voll=3500*1300,\n",
    "    let_blackout=False,\n",
    "    curtail_penalty=0,\n",
    "    let_curtail=False,\n",
    "    exact_reserve=False,\n",
    "    # renewable\n",
    "    solar_p_max=COPYPASTE.copy(),\n",
    "    solar_p_min=COPYPASTE.copy(),\n",
    "    wind_p=COPYPASTE.copy(),\n",
    "    hydro_p=COPYPASTE.copy(),\n",
    "    # system\n",
    "    load=[220, 250, 200, 170, 230, 190],\n",
    "    system_reserve_up=[10, 10, 10, 10, 10, 10], # COPYPASTE.copy(),\n",
    "    system_reserve_down=COPYPASTE.copy(), # [10, 10, 10, 0, 10, 10], \n",
    "    # operational constraint\n",
    "    p_min=[80, 50, 30],\n",
    "    p_max=[300, 200, 100],\n",
    "    ramp_up=[50, 60, 70],\n",
    "    ramp_down=[30, 40, 50],\n",
    "    startup_ramp=[100, 70, 40],\n",
    "    shutdown_ramp=[80, 50, 30],\n",
    "    min_up=[3, 2, 1],\n",
    "    min_down=[2, 2, 2],\n",
    "    # generation cost function\n",
    "    cost_quad=[0, 0, 0],\n",
    "    cost_lin=[5, 15, 30],\n",
    "    cost_const=[0, 0, 0],\n",
    "    # previous horizon\n",
    "    min_up_prev=[2, 0, 0],\n",
    "    min_down_prev=[0, 0, 0],\n",
    "    p_prev=[120, 0, 0],\n",
    "    u_prev=[\n",
    "        [1],\n",
    "        [0],\n",
    "        [0],\n",
    "    ],\n",
    "    # startup cost function\n",
    "    cost_startup_step=[\n",
    "        [800],\n",
    "        [500],\n",
    "        [250],\n",
    "    ],\n",
    ")"
   ]
  },
  {
   "cell_type": "code",
   "execution_count": 5,
   "id": "925f9881",
   "metadata": {},
   "outputs": [
    {
     "name": "stdout",
     "output_type": "stream",
     "text": [
      "Set parameter Username\n",
      "Set parameter LicenseID to value 2659802\n",
      "Academic license - for non-commercial use only - expires 2026-05-01\n"
     ]
    }
   ],
   "source": [
    "output_uc = Output_uc()\n",
    "solve_uc(input_uc=input_uc, output_uc=output_uc)"
   ]
  },
  {
   "cell_type": "code",
   "execution_count": 6,
   "id": "6b6a89b4",
   "metadata": {},
   "outputs": [],
   "source": [
    "output_ed = Output_ed(num_periods=num_periods, num_units=num_units, num_buses=num_buses)\n",
    "\n",
    "for time_period in range(num_periods):\n",
    "    input_ed = Input_ed(\n",
    "        # meta\n",
    "        time_period=time_period,\n",
    "        num_units=num_units,\n",
    "        num_buses=num_buses,\n",
    "        voll=3500*1300,\n",
    "        let_blackout=False,\n",
    "        curtail_penalty=0,\n",
    "        let_curtail=False,\n",
    "        exact_reserve=False,\n",
    "        # renewable\n",
    "        solar_p_max=COPYPASTE.copy(),\n",
    "        solar_p_min=COPYPASTE.copy(),\n",
    "        # uc\n",
    "        input_uc=input_uc,\n",
    "        output_uc=output_uc,\n",
    "    )\n",
    "\n",
    "    solve_ed(input_ed=input_ed, output_ed=output_ed)\n",
    "\n",
    "output_ed.compute_auxiliary_results()"
   ]
  },
  {
   "cell_type": "code",
   "execution_count": 7,
   "id": "1a236ab3",
   "metadata": {},
   "outputs": [
    {
     "data": {
      "text/plain": [
       "{'total_cost_retailor': 6300.0,\n",
       " 'total_cost_system': 8050.0,\n",
       " 'total_cost_generation': 8050.0,\n",
       " 'total_cost_voll': 0.0,\n",
       " 'total_cost_curtail_penalty': 0.0,\n",
       " 'cost_retailor': array([1100., 1250., 1000.,  850., 1150.,  950.]),\n",
       " 'cost_system': array([1600., 1750., 1000.,  850., 1900.,  950.]),\n",
       " 'cost_generation': array([1600., 1750., 1000.,  850., 1900.,  950.]),\n",
       " 'cost_voll': array([0., 0., 0., 0., 0., 0.]),\n",
       " 'cost_curtail_penalty': array([0., 0., 0., 0., 0., 0.]),\n",
       " 'z': array([[1.],\n",
       "        [1.],\n",
       "        [1.],\n",
       "        [1.],\n",
       "        [1.],\n",
       "        [1.]]),\n",
       " 'p': array([[170., 200., 200., 170., 200., 190.],\n",
       "        [ 50.,  50.,   0.,   0.,   0.,   0.],\n",
       "        [  0.,   0.,   0.,   0.,  30.,   0.]]),\n",
       " 'blackout': array([[0.],\n",
       "        [0.],\n",
       "        [0.],\n",
       "        [0.],\n",
       "        [0.],\n",
       "        [0.]]),\n",
       " 'solar_p': array([0., 0., 0., 0., 0., 0.]),\n",
       " 'solar_curtail': array([0., 0., 0., 0., 0., 0.]),\n",
       " 'smp': array([5., 5., 5., 5., 5., 5.]),\n",
       " 'cost_reserve_up': array([0., 0., 0., 0., 0., 0.]),\n",
       " 'cost_reserve_down': array([0., 0., 0., 0., 0., 0.])}"
      ]
     },
     "execution_count": 7,
     "metadata": {},
     "output_type": "execute_result"
    }
   ],
   "source": [
    "output_ed.__dict__"
   ]
  },
  {
   "cell_type": "code",
   "execution_count": 8,
   "id": "8206f504",
   "metadata": {},
   "outputs": [
    {
     "data": {
      "text/plain": [
       "np.True_"
      ]
     },
     "execution_count": 8,
     "metadata": {},
     "output_type": "execute_result"
    }
   ],
   "source": [
    "np.all(output_uc.p == output_ed.p)"
   ]
  },
  {
   "cell_type": "code",
   "execution_count": 9,
   "id": "b2147d9f",
   "metadata": {},
   "outputs": [
    {
     "data": {
      "text/plain": [
       "array([ True,  True,  True,  True,  True,  True])"
      ]
     },
     "execution_count": 9,
     "metadata": {},
     "output_type": "execute_result"
    }
   ],
   "source": [
    "output_uc.cost_generation == output_ed.cost_generation"
   ]
  },
  {
   "cell_type": "code",
   "execution_count": 10,
   "id": "2ec3c34f",
   "metadata": {},
   "outputs": [
    {
     "data": {
      "text/plain": [
       "array([2100., 1750., 1000.,  850., 2150.,  950.])"
      ]
     },
     "execution_count": 10,
     "metadata": {},
     "output_type": "execute_result"
    }
   ],
   "source": [
    "output_uc.cost_system"
   ]
  },
  {
   "cell_type": "code",
   "execution_count": 11,
   "id": "7fd5d1f4",
   "metadata": {},
   "outputs": [
    {
     "data": {
      "text/plain": [
       "array([1600., 1750., 1000.,  850., 1900.,  950.])"
      ]
     },
     "execution_count": 11,
     "metadata": {},
     "output_type": "execute_result"
    }
   ],
   "source": [
    "output_ed.cost_system"
   ]
  },
  {
   "cell_type": "code",
   "execution_count": 12,
   "id": "110833f2",
   "metadata": {},
   "outputs": [
    {
     "data": {
      "text/plain": [
       "array([0., 0., 0., 0., 0., 0.])"
      ]
     },
     "execution_count": 12,
     "metadata": {},
     "output_type": "execute_result"
    }
   ],
   "source": [
    "output_ed.cost_voll"
   ]
  }
 ],
 "metadata": {
  "kernelspec": {
   "display_name": "base",
   "language": "python",
   "name": "python3"
  },
  "language_info": {
   "codemirror_mode": {
    "name": "ipython",
    "version": 3
   },
   "file_extension": ".py",
   "mimetype": "text/x-python",
   "name": "python",
   "nbconvert_exporter": "python",
   "pygments_lexer": "ipython3",
   "version": "3.12.2"
  }
 },
 "nbformat": 4,
 "nbformat_minor": 5
}
