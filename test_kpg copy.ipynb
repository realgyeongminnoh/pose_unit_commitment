{
 "cells": [
  {
   "cell_type": "code",
   "execution_count": 1,
   "id": "f76c8439",
   "metadata": {},
   "outputs": [],
   "source": [
    "import pickle\n",
    "import numpy as np\n",
    "from pathlib import Path\n",
    "\n",
    "from src.input import Input_uc, Input_ed, Input_ed_prev\n",
    "from src.output import Output_uc, Output_ed, Output_ed_prev\n",
    "from src.unit_commitment import solve_uc\n",
    "from src.economic_dispatch import solve_ed, solve_ed_prev"
   ]
  },
  {
   "cell_type": "code",
   "execution_count": 2,
   "id": "85d8de61",
   "metadata": {},
   "outputs": [],
   "source": [
    "num_units=122\n",
    "num_periods=24\n",
    "num_buses=197"
   ]
  },
  {
   "cell_type": "code",
   "execution_count": 3,
   "id": "4e874343",
   "metadata": {},
   "outputs": [],
   "source": [
    "path_folder_processed_kpg193 = Path.cwd().resolve() / \"data\" / \"input\" / \"processed\" / \"KPG193_ver1_2\"\n",
    "timestamp_2022 = np.load(Path.cwd().resolve() / \"data\" / \"input\" / \"processed\" / \"timestamp_2022.npy\")\n",
    "time_start, time_end = np.datetime64(\"2022-07-02T00\"), np.datetime64(\"2022-07-02T23\")\n",
    "idx_time_start, idx_time_end = np.where(timestamp_2022 == time_start)[0][0], np.where(timestamp_2022 == time_end)[0][0]"
   ]
  },
  {
   "cell_type": "code",
   "execution_count": 4,
   "id": "c5c0b687",
   "metadata": {},
   "outputs": [],
   "source": [
    "solar_p_max = np.load(path_folder_processed_kpg193 / \"solar_p_max_2022.npy\")[idx_time_start-1:idx_time_end+1].sum(axis=1)\n",
    "solar_p_min = np.zeros(num_periods + 1)\n",
    "wind_p = np.load(path_folder_processed_kpg193 / \"wind_p_2022.npy\")[idx_time_start-1:idx_time_end+1].sum(axis=1)\n",
    "hydro_p = np.load(path_folder_processed_kpg193 / \"hydro_p_2022.npy\")[idx_time_start-1:idx_time_end+1].sum(axis=1)\n",
    "\n",
    "load = np.load(path_folder_processed_kpg193 / \"demand_2022.npy\")[idx_time_start-1:idx_time_end+1]\n",
    "system_reserve_up = np.zeros(num_periods + 1)\n",
    "system_reserve_down = np.zeros(num_periods + 1)\n",
    "\n",
    "p_min =  np.load(path_folder_processed_kpg193 / \"p_min.npy\")\n",
    "p_max =  np.load(path_folder_processed_kpg193 / \"p_max.npy\")\n",
    "ramp_up =  np.load(path_folder_processed_kpg193 / \"ramp_up.npy\")\n",
    "ramp_down =  np.load(path_folder_processed_kpg193 / \"ramp_down.npy\")\n",
    "startup_ramp =  np.load(path_folder_processed_kpg193 / \"startup_ramp.npy\")\n",
    "shutdown_ramp =  np.load(path_folder_processed_kpg193 / \"shutdown_ramp.npy\")\n",
    "min_up =  np.load(path_folder_processed_kpg193 / \"min_up.npy\")\n",
    "min_down =  np.load(path_folder_processed_kpg193 / \"min_down.npy\")\n",
    "cost_quad =  np.load(path_folder_processed_kpg193 / \"cost_quad.npy\")\n",
    "cost_lin =  np.load(path_folder_processed_kpg193 / \"cost_lin.npy\")\n",
    "cost_const =  np.load(path_folder_processed_kpg193 / \"cost_const.npy\")"
   ]
  },
  {
   "cell_type": "code",
   "execution_count": 5,
   "id": "cfe43413",
   "metadata": {},
   "outputs": [],
   "source": [
    "cost_startup_step = pickle.load(open(path_folder_processed_kpg193 / \"cost_startup_step.pkl\", \"rb\"))\n",
    "num_cooling_steps = np.array([len(csc_i) for csc_i in cost_startup_step])\n",
    "\n",
    "u_prev = [\n",
    "    np.load(path_folder_processed_kpg193 / \"status_2022.npy\")\n",
    "    [idx_time_start-num_cooling_steps.max():idx_time_start]\n",
    "    [:, idx_unit][-lookup:].tolist()\n",
    "    for idx_unit, lookup in enumerate(num_cooling_steps)\n",
    "]"
   ]
  },
  {
   "cell_type": "code",
   "execution_count": 6,
   "id": "1b2ff2fe",
   "metadata": {},
   "outputs": [],
   "source": [
    "mustoff_2022 = np.load(path_folder_processed_kpg193 / \"mustoff_2022.npy\")\n",
    "mustoff_2022 = mustoff_2022[\n",
    "    (mustoff_2022[:, 2] >= idx_time_start) & (mustoff_2022[:, 1] <= idx_time_end)\n",
    "]\n",
    "mustoff = []\n",
    "for unit, start, end in mustoff_2022.tolist():\n",
    "    start_clipped = max(start, idx_time_start)\n",
    "    end_clipped = min(end, idx_time_end)\n",
    "    for t in range(start_clipped, end_clipped + 1):\n",
    "        mustoff.append((unit, t - int(idx_time_start)))"
   ]
  },
  {
   "cell_type": "code",
   "execution_count": 7,
   "id": "9bb1e668",
   "metadata": {},
   "outputs": [],
   "source": [
    "# p_prev = solve_ed_prev(\n",
    "#     input_ed_prev=Input_ed_prev(\n",
    "#         # meta\n",
    "#         num_units=num_units,\n",
    "#         num_buses=num_buses,\n",
    "#         voll=3500*1300,\n",
    "#         let_blackout=False,\n",
    "#         curtail_penalty=0,\n",
    "#         let_curtail=False,\n",
    "#         exact_reserve=False,\n",
    "#         # renewable\n",
    "#         solar_p_max=solar_p_max[0],\n",
    "#         solar_p_min=solar_p_min[0],\n",
    "#         wind_p=wind_p[0],\n",
    "#         hydro_p=hydro_p[0],\n",
    "#         # system\n",
    "#         load=load[0],\n",
    "#         system_reserve_up=system_reserve_up[0],\n",
    "#         system_reserve_down=system_reserve_down[0],\n",
    "#         # u_prev\n",
    "#         u_prev=[u[-1] for u in u_prev],\n",
    "#         # operational\n",
    "#         p_min=p_min, p_max=p_max, cost_quad=cost_quad, cost_lin=cost_lin, cost_const=cost_const,\n",
    "#     ), \n",
    "#     output_ed_prev=Output_ed_prev(), \n",
    "#     only_p_prev=True,\n",
    "# )"
   ]
  },
  {
   "cell_type": "code",
   "execution_count": 8,
   "id": "dddd8e84",
   "metadata": {},
   "outputs": [
    {
     "name": "stdout",
     "output_type": "stream",
     "text": [
      "Set parameter Username\n",
      "Set parameter LicenseID to value 2659802\n",
      "Academic license - for non-commercial use only - expires 2026-05-01\n"
     ]
    }
   ],
   "source": [
    "input_ed_prev=Input_ed_prev(\n",
    "    # meta\n",
    "    num_units=num_units,\n",
    "    num_buses=num_buses,\n",
    "    voll=3500*1300,\n",
    "    let_blackout=False,\n",
    "    curtail_penalty=0,\n",
    "    let_curtail=False,\n",
    "    exact_reserve=False,\n",
    "    # renewable\n",
    "    solar_p_max=solar_p_max[0],\n",
    "    solar_p_min=solar_p_min[0],\n",
    "    wind_p=wind_p[0],\n",
    "    hydro_p=hydro_p[0],\n",
    "    # system\n",
    "    load=load[0],\n",
    "    system_reserve_up=system_reserve_up[0],\n",
    "    system_reserve_down=system_reserve_down[0],\n",
    "    # u_prev\n",
    "    u_prev=[u[-1] for u in u_prev],\n",
    "    # operational\n",
    "    p_min=p_min, p_max=p_max, cost_quad=cost_quad, cost_lin=cost_lin, cost_const=cost_const,\n",
    ")\n",
    "output_ed_prev = Output_ed_prev()\n",
    "solve_ed_prev(input_ed_prev=input_ed_prev, output_ed_prev=output_ed_prev, only_p_prev=False)\n",
    "p_prev = output_ed_prev.p"
   ]
  },
  {
   "cell_type": "code",
   "execution_count": 9,
   "id": "94baa44f",
   "metadata": {},
   "outputs": [],
   "source": [
    "solar_p_max = solar_p_max[1:]\n",
    "solar_p_min = solar_p_min[1:]\n",
    "wind_p = wind_p[1:]\n",
    "hydro_p = hydro_p[1:]\n",
    "load = load[1:]\n",
    "system_reserve_up = system_reserve_up[1:]\n",
    "system_reserve_down = system_reserve_down[1:]"
   ]
  },
  {
   "cell_type": "markdown",
   "id": "416795e3",
   "metadata": {},
   "source": [
    "---\n",
    "---\n",
    "---"
   ]
  },
  {
   "cell_type": "code",
   "execution_count": 10,
   "id": "230d8763",
   "metadata": {},
   "outputs": [],
   "source": [
    "input_uc = Input_uc(\n",
    "    # meta\n",
    "    num_units=num_units,\n",
    "    num_periods=num_periods,\n",
    "    num_buses=num_buses,\n",
    "    voll=3500*1300,\n",
    "    let_blackout=False,\n",
    "    curtail_penalty=0,\n",
    "    let_curtail=False,\n",
    "    exact_reserve=False,\n",
    "    # renewable\n",
    "    solar_p_max=solar_p_max,\n",
    "    solar_p_min=solar_p_min,\n",
    "    wind_p=wind_p,\n",
    "    hydro_p=hydro_p,\n",
    "    # system\n",
    "    load=load,\n",
    "    system_reserve_up=system_reserve_up,\n",
    "    system_reserve_down=system_reserve_down,\n",
    "    # operational constraint\n",
    "    p_min=p_min,\n",
    "    p_max=p_max,\n",
    "    ramp_up=ramp_up,\n",
    "    ramp_down=ramp_down,\n",
    "    startup_ramp=startup_ramp,\n",
    "    shutdown_ramp=shutdown_ramp,\n",
    "    min_up=min_up,\n",
    "    min_down=min_down,\n",
    "    # generation cost function\n",
    "    cost_quad=cost_quad,\n",
    "    cost_lin=cost_lin,\n",
    "    cost_const=cost_const,\n",
    "    # previous horizon\n",
    "    p_prev=p_prev,\n",
    "    u_prev=u_prev,\n",
    "    # startup cost function\n",
    "    cost_startup_step=cost_startup_step,\n",
    "    # mustoff\n",
    "    mustoff=mustoff,\n",
    ")"
   ]
  },
  {
   "cell_type": "code",
   "execution_count": 11,
   "id": "9328c2b7",
   "metadata": {},
   "outputs": [
    {
     "data": {
      "text/plain": [
       "array([0, 0, 0, 0, 0, 0, 0, 0, 0, 0, 0, 0, 0, 0, 0, 0, 0, 0, 0, 0, 0, 0,\n",
       "       0, 0, 0, 0, 0, 0, 0, 0, 0, 0, 0, 0, 0, 0, 0, 0, 0, 0, 0, 0, 0, 0,\n",
       "       0, 0, 0, 0, 0, 0, 0, 0, 0, 0, 0, 0, 0, 0, 0, 0, 0, 0, 0, 0, 0, 0,\n",
       "       0, 0, 0, 0, 0, 0, 0, 0, 0, 0, 0, 0, 0, 0, 0, 0, 0, 0, 0, 0, 0, 0,\n",
       "       0, 0, 0, 0, 0, 0, 0, 0, 0, 0, 0, 0, 0, 0, 0, 0, 0, 0, 0, 0, 0, 0,\n",
       "       0, 0, 0, 0, 0, 0, 0, 0, 0, 0, 0, 0])"
      ]
     },
     "execution_count": 11,
     "metadata": {},
     "output_type": "execute_result"
    }
   ],
   "source": [
    "np.array(input_uc.min_up_prev)"
   ]
  },
  {
   "cell_type": "code",
   "execution_count": 12,
   "id": "8b999f8a",
   "metadata": {},
   "outputs": [
    {
     "data": {
      "text/plain": [
       "array([0, 0, 0, 0, 0, 0, 0, 0, 0, 0, 0, 0, 0, 0, 0, 0, 0, 0, 0, 0, 0, 0,\n",
       "       0, 0, 0, 0, 0, 0, 0, 0, 0, 0, 0, 0, 0, 2, 0, 0, 0, 0, 0, 0, 0, 0,\n",
       "       0, 0, 0, 0, 0, 0, 0, 0, 0, 0, 0, 0, 0, 0, 0, 0, 0, 0, 0, 0, 0, 0,\n",
       "       0, 0, 0, 0, 0, 0, 0, 0, 0, 0, 0, 0, 0, 0, 0, 0, 0, 0, 0, 0, 0, 0,\n",
       "       0, 0, 0, 0, 0, 0, 0, 0, 0, 0, 0, 0, 0, 0, 1, 0, 0, 0, 0, 0, 0, 0,\n",
       "       0, 0, 0, 0, 1, 0, 0, 0, 0, 0, 0, 0])"
      ]
     },
     "execution_count": 12,
     "metadata": {},
     "output_type": "execute_result"
    }
   ],
   "source": [
    "np.array(input_uc.min_down_prev)"
   ]
  },
  {
   "cell_type": "code",
   "execution_count": 14,
   "id": "9c671702",
   "metadata": {},
   "outputs": [],
   "source": [
    "unit_type = np.load(path_folder_processed_kpg193 / \"unit_type.npy\")"
   ]
  },
  {
   "cell_type": "code",
   "execution_count": 19,
   "id": "22c8098d",
   "metadata": {},
   "outputs": [],
   "source": [
    "import numpy as np\n",
    "import matplotlib.pyplot as plt\n",
    "from matplotlib.colors import ListedColormap, BoundaryNorm\n",
    "import pandas as pd\n",
    "\n",
    "\n",
    "def plot_uc_history(u_prev,\n",
    "                    min_up_prev,  min_down_prev,\n",
    "                    min_up,       min_down,\n",
    "                    unit_type,          # len = num_units, values 0/1/2\n",
    "                    idx0: int, idx1: int,\n",
    "                    history_start='2022-06-29T00',\n",
    "                    horizon_start='2022-07-02T00',\n",
    "                    hours_history: int = 48,\n",
    "                    hours_future:  int = 24):\n",
    "    \"\"\"Visualise past on/off status and residual MU / MD obligations.\"\"\"\n",
    "\n",
    "    # ---- 0 · coerce every scalar to vanilla Python int -----------------\n",
    "    idx0, idx1          = int(idx0), int(idx1)\n",
    "    hours_history       = int(hours_history)\n",
    "    hours_future        = int(hours_future)\n",
    "    nu                  = idx1 - idx0                          # rows\n",
    "    H                   = hours_history + hours_future         # cols\n",
    "\n",
    "    # ---- 1 · canvas ----------------------------------------------------\n",
    "    Z = np.full((nu, H), -3, dtype=int)                        # -3 → blank\n",
    "\n",
    "    # ---- 2 · fill past history ----------------------------------------\n",
    "    for r, u in enumerate(range(idx0, idx1)):\n",
    "        tail      = list(u_prev[u])[-hours_history:]           # at most 48\n",
    "        col_start = hours_history - len(tail)\n",
    "        for k, val in enumerate(tail, start=col_start):\n",
    "            Z[r, k] = 1 + 10*int(unit_type[u]) if val else 0   # encode ON\n",
    "\n",
    "    # ---- 3 · mark residual hours --------------------------------------\n",
    "    for r, u in enumerate(range(idx0, idx1)):\n",
    "        # binding ON hours\n",
    "        mup = int(min_up_prev[u])\n",
    "        if mup:\n",
    "            Z[r, hours_history : hours_history+mup] = 1 + 10*int(unit_type[u])\n",
    "\n",
    "        # binding OFF hours\n",
    "        mdp = int(min_down_prev[u])\n",
    "        if mdp:\n",
    "            Z[r, hours_history : hours_history+mdp] = -2        # black bar\n",
    "\n",
    "    # ---- 4 · prepare colour map ---------------------------------------\n",
    "    cmap = ListedColormap([\n",
    "        \"white\",        # -3 blank\n",
    "        \"lightgrey\",    # 0  OFF\n",
    "        \"black\",        # -2 locked OFF\n",
    "        \"green\",        # 1  nuclear ON\n",
    "        \"blue\",         # 11 coal ON\n",
    "        \"red\",          # 21 LNG  ON\n",
    "    ])\n",
    "    norm = BoundaryNorm([-3, -2.5, -1.5, -0.5, 5, 15, 25], cmap.N)\n",
    "    Zp   = np.select(\n",
    "        [Z == 0, Z == -2, Z == 1, Z == 11, Z == 21],\n",
    "        [0,     -2,      1,      11,      21], default=-3\n",
    "    )\n",
    "\n",
    "    # ---- 5 · plot ------------------------------------------------------\n",
    "    fig, ax = plt.subplots(figsize=(12, max(3, 0.4*nu)))\n",
    "    ax.imshow(Zp, aspect='auto', cmap=cmap, norm=norm)\n",
    "\n",
    "    # y-axis\n",
    "    ax.set_yticks(range(nu))\n",
    "    ax.set_yticklabels(range(idx0, idx1))\n",
    "    ax.set_ylabel(\"unit index\")\n",
    "\n",
    "    # x-axis labels (every 24 h)\n",
    "    t0  = pd.Timestamp(history_start, tz='Asia/Seoul')\n",
    "    xt  = list(range(0, H+1, 24))\n",
    "    ax.set_xticks(xt)\n",
    "    ax.set_xticklabels([(t0 + pd.Timedelta(hours=k)).strftime('%m-%d\\n%H:%M') for k in xt])\n",
    "    ax.set_xlabel(\"time (KST)\")\n",
    "\n",
    "    # vertical dashed lines: 07-01 23:00 & 07-02 00:00\n",
    "    horizon0 = pd.Timestamp(horizon_start, tz='Asia/Seoul')\n",
    "    for v in (horizon0 - pd.Timedelta(hours=1), horizon0):\n",
    "        ax.axvline((v - t0).total_seconds()/3600, color='k', ls='--', lw=1.2)\n",
    "\n",
    "    # ---- 6 · outline additional MU/MD hours (optional) ----------------\n",
    "    for r, u in enumerate(range(idx0, idx1)):\n",
    "        # remaining ON hours\n",
    "        rem_on = max(0, int(min_up[u])   - int(min_up_prev[u]))\n",
    "        if rem_on:\n",
    "            ax.add_patch(plt.Rectangle(\n",
    "                (hours_history + int(min_up_prev[u]), r-0.5),\n",
    "                rem_on, 1, fill=False, lw=1,\n",
    "                edgecolor=('green' if unit_type[u]==0 else\n",
    "                           'blue'  if unit_type[u]==1 else 'red')\n",
    "            ))\n",
    "        # remaining OFF hours\n",
    "        rem_off = max(0, int(min_down[u]) - int(min_down_prev[u]))\n",
    "        if rem_off:\n",
    "            ax.add_patch(plt.Rectangle(\n",
    "                (hours_history + int(min_down_prev[u]), r-0.5),\n",
    "                rem_off, 1, fill=False, lw=1, edgecolor='black'\n",
    "            ))\n",
    "\n",
    "    # legend\n",
    "    from matplotlib.patches import Patch, Rectangle\n",
    "    ax.legend(handles=[\n",
    "        Patch(fc='green',  label='ON nuclear'),\n",
    "        Patch(fc='blue',   label='ON coal'),\n",
    "        Patch(fc='red',    label='ON LNG'),\n",
    "        Patch(fc='lightgrey', label='OFF'),\n",
    "        Patch(fc='black',  label='locked OFF'),\n",
    "        Rectangle((0,0),1,1, fill=False, ec='k', label='remaining MU/MD')\n",
    "    ], loc='upper left', bbox_to_anchor=(1,1))\n",
    "\n",
    "    plt.tight_layout()\n",
    "    plt.show()\n"
   ]
  },
  {
   "cell_type": "code",
   "execution_count": 45,
   "id": "86ed0156",
   "metadata": {},
   "outputs": [
    {
     "data": {
      "text/plain": [
       "(array([  3,   7,   8,  11,  12,  13,  14,  20,  21,  22,  23,  24,  25,\n",
       "         26,  27,  28,  29,  30,  31,  32,  33,  34,  35,  36,  52,  53,\n",
       "         54,  55,  69,  76,  77,  78,  84,  85,  86,  88, 100, 101, 102,\n",
       "        105, 106, 107, 108, 109, 110, 111, 112, 113, 114, 115, 116, 117,\n",
       "        118, 119, 120, 121]),)"
      ]
     },
     "execution_count": 45,
     "metadata": {},
     "output_type": "execute_result"
    }
   ],
   "source": [
    "np.where(unit_type == 2)"
   ]
  },
  {
   "cell_type": "code",
   "execution_count": 22,
   "id": "6764c129",
   "metadata": {},
   "outputs": [
    {
     "name": "stdout",
     "output_type": "stream",
     "text": [
      "unit  0  type = 1\n",
      "unit  1  type = 1\n",
      "unit  2  type = 1\n",
      "unit  3  type = 2\n",
      "unit  4  type = 1\n",
      "unit  5  type = 1\n",
      "unit  6  type = 1\n",
      "unit  7  type = 2\n",
      "unit  8  type = 2\n",
      "unit  9  type = 1\n"
     ]
    }
   ],
   "source": [
    "for i in range(0, 10):\n",
    "    print(f\"unit {i:2d}  type = {unit_type[i]}\")\n"
   ]
  },
  {
   "cell_type": "code",
   "execution_count": 65,
   "id": "8d55bd9b",
   "metadata": {},
   "outputs": [
    {
     "data": {
      "text/plain": [
       "array([ 35, 102, 114])"
      ]
     },
     "execution_count": 65,
     "metadata": {},
     "output_type": "execute_result"
    }
   ],
   "source": [
    "np.where(np.array(input_uc.min_down_prev) != 0)[0]"
   ]
  },
  {
   "cell_type": "code",
   "execution_count": null,
   "id": "275ac7dc",
   "metadata": {},
   "outputs": [
    {
     "name": "stdout",
     "output_type": "stream",
     "text": [
      "[1, 1, 0, 0]\n",
      "[1, 0, 0]\n",
      "0\n",
      "1\n"
     ]
    }
   ],
   "source": [
    "for idx_unit in range(122)[114:115]:\n",
    "    iu_prev = u_prev[idx_unit]\n",
    "    imin_up = min_up[idx_unit]\n",
    "    imin_down = min_down[idx_unit]\n",
    "    print(iu_prev[-imin_up:])\n",
    "    print(iu_prev[-imin_down:])\n",
    "    print(input_uc.min_up_prev[idx_unit])\n",
    "    print(input_uc.min_down_prev[idx_unit])"
   ]
  },
  {
   "cell_type": "code",
   "execution_count": 20,
   "id": "7afad16f",
   "metadata": {},
   "outputs": [
    {
     "data": {
      "image/png": "[encoded data removed]",
      "text/plain": [
       "<Figure size 1200x400 with 1 Axes>"
      ]
     },
     "metadata": {},
     "output_type": "display_data"
    }
   ],
   "source": [
    "plot_uc_history(\n",
    "    u_prev,\n",
    "    input_uc.min_up_prev, input_uc.min_down_prev,\n",
    "    min_up,               min_down,\n",
    "    unit_type,\n",
    "    0, 10,                    # show units 0-9\n",
    ")\n"
   ]
  }
 ],
 "metadata": {
  "kernelspec": {
   "display_name": "base",
   "language": "python",
   "name": "python3"
  },
  "language_info": {
   "codemirror_mode": {
    "name": "ipython",
    "version": 3
   },
   "file_extension": ".py",
   "mimetype": "text/x-python",
   "name": "python",
   "nbconvert_exporter": "python",
   "pygments_lexer": "ipython3",
   "version": "3.12.2"
  }
 },
 "nbformat": 4,
 "nbformat_minor": 5
}
